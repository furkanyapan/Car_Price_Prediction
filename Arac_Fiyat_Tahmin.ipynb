{
 "cells": [
  {
   "cell_type": "markdown",
   "id": "83c535a1",
   "metadata": {},
   "source": [
    "# 1. Veri Toplama ve Ön İşleme"
   ]
  },
  {
   "cell_type": "markdown",
   "id": "326a47ba",
   "metadata": {},
   "source": [
    "Başlagıçta gerekli olan kütüphaneleri ekliyoruz."
   ]
  },
  {
   "cell_type": "code",
   "execution_count": 1,
   "id": "2fc0256f",
   "metadata": {},
   "outputs": [],
   "source": [
    "import numpy as np\n",
    "import pandas as pd\n",
    "import matplotlib.pyplot as plt\n",
    "import seaborn as sns\n",
    "import sklearn.metrics as mt"
   ]
  },
  {
   "cell_type": "markdown",
   "id": "85f9a5a4",
   "metadata": {},
   "source": [
    "## 1.1 Veri Setinin İçe Aktarılması ve Ön İşleme Tabi Tutulması"
   ]
  },
  {
   "cell_type": "markdown",
   "id": "a364af82",
   "metadata": {},
   "source": [
    "sahibinden.com' dan çekilmiş verilerden oluşan cvs dosyamızı df adlı datafareme aktarıyoruz ve ilk 5 satırını gözlemliyoruz."
   ]
  },
  {
   "cell_type": "code",
   "execution_count": 2,
   "id": "3b9c232f",
   "metadata": {},
   "outputs": [
    {
     "data": {
      "text/html": [
       "<div>\n",
       "<style scoped>\n",
       "    .dataframe tbody tr th:only-of-type {\n",
       "        vertical-align: middle;\n",
       "    }\n",
       "\n",
       "    .dataframe tbody tr th {\n",
       "        vertical-align: top;\n",
       "    }\n",
       "\n",
       "    .dataframe thead th {\n",
       "        text-align: right;\n",
       "    }\n",
       "</style>\n",
       "<table border=\"1\" class=\"dataframe\">\n",
       "  <thead>\n",
       "    <tr style=\"text-align: right;\">\n",
       "      <th></th>\n",
       "      <th>ilan_id</th>\n",
       "      <th>ilan_basligi</th>\n",
       "      <th>fiyat</th>\n",
       "      <th>fiyat_kuru</th>\n",
       "      <th>ilan_tarihi</th>\n",
       "      <th>ilan_kategorisi</th>\n",
       "      <th>arac_tagleri</th>\n",
       "      <th>ilan_konumu</th>\n",
       "      <th>arac_ozellikleri</th>\n",
       "    </tr>\n",
       "  </thead>\n",
       "  <tbody>\n",
       "    <tr>\n",
       "      <th>0</th>\n",
       "      <td>1080850207</td>\n",
       "      <td>DEĞİŞENSİZ YENİ MUAYENELİ RENAULT MEGANE FUL D...</td>\n",
       "      <td>830000.0</td>\n",
       "      <td>TL</td>\n",
       "      <td>2023-05-26 09:23:29.000000</td>\n",
       "      <td>[{'id': 3517, 'label': 'Vasıta'}, {'id': 3530,...</td>\n",
       "      <td>{'Model': '1.5 dCi Icon', 'Marka': 'Renault', ...</td>\n",
       "      <td>İstanbul, Ümraniye</td>\n",
       "      <td>['143.000 km', '2016 model', 'Dizel', '110 hp'...</td>\n",
       "    </tr>\n",
       "    <tr>\n",
       "      <th>1</th>\n",
       "      <td>1101850722</td>\n",
       "      <td>KAZA,BOYA,DEĞİŞEN,TRAMER YOK. 80.000 km.</td>\n",
       "      <td>905000.0</td>\n",
       "      <td>TL</td>\n",
       "      <td>2023-05-26 09:23:13.000000</td>\n",
       "      <td>[{'id': 3517, 'label': 'Vasıta'}, {'id': 3530,...</td>\n",
       "      <td>{'Model': '1.5 dCi Icon', 'Marka': 'Renault', ...</td>\n",
       "      <td>İzmir, Konak</td>\n",
       "      <td>['80.000 km', '2017 model', 'Dizel', '110 hp',...</td>\n",
       "    </tr>\n",
       "    <tr>\n",
       "      <th>2</th>\n",
       "      <td>1101855061</td>\n",
       "      <td>HATASIZ AYARINDA MASRAFSIZ AUDİ A3</td>\n",
       "      <td>695000.0</td>\n",
       "      <td>TL</td>\n",
       "      <td>2023-05-26 09:22:58.000000</td>\n",
       "      <td>[{'id': 3517, 'label': 'Vasıta'}, {'id': 3530,...</td>\n",
       "      <td>{'Model': 'A3 Sportback 1.6', 'Marka': 'Audi',...</td>\n",
       "      <td>Adana, Seyhan</td>\n",
       "      <td>['177.000 km', '2011 model', 'Benzin &amp; LPG', '...</td>\n",
       "    </tr>\n",
       "    <tr>\n",
       "      <th>3</th>\n",
       "      <td>1101851921</td>\n",
       "      <td>2020/A3 35 1.5 TFSİ/150 DESIGN+STRONIC PKT-SUN...</td>\n",
       "      <td>1380000.0</td>\n",
       "      <td>TL</td>\n",
       "      <td>2023-05-26 09:22:35.000000</td>\n",
       "      <td>[{'id': 3517, 'label': 'Vasıta'}, {'id': 3530,...</td>\n",
       "      <td>{'Model': 'A3 Sedan 35 TFSI', 'Marka': 'Audi',...</td>\n",
       "      <td>İstanbul, Sarıyer</td>\n",
       "      <td>['33.000 km', '2020 model', 'Benzin', '150 hp'...</td>\n",
       "    </tr>\n",
       "    <tr>\n",
       "      <th>4</th>\n",
       "      <td>1090594643</td>\n",
       "      <td>2015 MODEL</td>\n",
       "      <td>530000.0</td>\n",
       "      <td>TL</td>\n",
       "      <td>2023-05-26 09:21:55.000000</td>\n",
       "      <td>[{'id': 3517, 'label': 'Vasıta'}, {'id': 3530,...</td>\n",
       "      <td>{'Model': '1.4 TDI Trendline', 'Marka': 'Volks...</td>\n",
       "      <td>Kırklareli, Lüleburgaz</td>\n",
       "      <td>['125.000 km', '2015 model', 'Dizel', '75 hp',...</td>\n",
       "    </tr>\n",
       "  </tbody>\n",
       "</table>\n",
       "</div>"
      ],
      "text/plain": [
       "      ilan_id                                       ilan_basligi      fiyat  \\\n",
       "0  1080850207  DEĞİŞENSİZ YENİ MUAYENELİ RENAULT MEGANE FUL D...   830000.0   \n",
       "1  1101850722           KAZA,BOYA,DEĞİŞEN,TRAMER YOK. 80.000 km.   905000.0   \n",
       "2  1101855061                 HATASIZ AYARINDA MASRAFSIZ AUDİ A3   695000.0   \n",
       "3  1101851921  2020/A3 35 1.5 TFSİ/150 DESIGN+STRONIC PKT-SUN...  1380000.0   \n",
       "4  1090594643                                         2015 MODEL   530000.0   \n",
       "\n",
       "  fiyat_kuru                 ilan_tarihi  \\\n",
       "0         TL  2023-05-26 09:23:29.000000   \n",
       "1         TL  2023-05-26 09:23:13.000000   \n",
       "2         TL  2023-05-26 09:22:58.000000   \n",
       "3         TL  2023-05-26 09:22:35.000000   \n",
       "4         TL  2023-05-26 09:21:55.000000   \n",
       "\n",
       "                                     ilan_kategorisi  \\\n",
       "0  [{'id': 3517, 'label': 'Vasıta'}, {'id': 3530,...   \n",
       "1  [{'id': 3517, 'label': 'Vasıta'}, {'id': 3530,...   \n",
       "2  [{'id': 3517, 'label': 'Vasıta'}, {'id': 3530,...   \n",
       "3  [{'id': 3517, 'label': 'Vasıta'}, {'id': 3530,...   \n",
       "4  [{'id': 3517, 'label': 'Vasıta'}, {'id': 3530,...   \n",
       "\n",
       "                                        arac_tagleri             ilan_konumu  \\\n",
       "0  {'Model': '1.5 dCi Icon', 'Marka': 'Renault', ...      İstanbul, Ümraniye   \n",
       "1  {'Model': '1.5 dCi Icon', 'Marka': 'Renault', ...            İzmir, Konak   \n",
       "2  {'Model': 'A3 Sportback 1.6', 'Marka': 'Audi',...           Adana, Seyhan   \n",
       "3  {'Model': 'A3 Sedan 35 TFSI', 'Marka': 'Audi',...       İstanbul, Sarıyer   \n",
       "4  {'Model': '1.4 TDI Trendline', 'Marka': 'Volks...  Kırklareli, Lüleburgaz   \n",
       "\n",
       "                                    arac_ozellikleri  \n",
       "0  ['143.000 km', '2016 model', 'Dizel', '110 hp'...  \n",
       "1  ['80.000 km', '2017 model', 'Dizel', '110 hp',...  \n",
       "2  ['177.000 km', '2011 model', 'Benzin & LPG', '...  \n",
       "3  ['33.000 km', '2020 model', 'Benzin', '150 hp'...  \n",
       "4  ['125.000 km', '2015 model', 'Dizel', '75 hp',...  "
      ]
     },
     "execution_count": 2,
     "metadata": {},
     "output_type": "execute_result"
    }
   ],
   "source": [
    "df = pd.read_csv('arac_ilanlari.csv')\n",
    "df.head()"
   ]
  },
  {
   "cell_type": "markdown",
   "id": "c1288dee",
   "metadata": {},
   "source": [
    "Görüldüğü gibi dataframeimizde veriler çok dağınık bir şekilde bulunuyor. "
   ]
  },
  {
   "cell_type": "markdown",
   "id": "3c0a4c4f",
   "metadata": {},
   "source": [
    "İlan kategorisinden yer alan bilgileri sütunlara ayırma işlemlerini gerçekleştirelim."
   ]
  },
  {
   "cell_type": "markdown",
   "id": "115c436e",
   "metadata": {},
   "source": [
    "## 1.2 Verilerin Ön İşleme Tabi Tutulması"
   ]
  },
  {
   "cell_type": "code",
   "execution_count": 3,
   "id": "231996cf",
   "metadata": {},
   "outputs": [],
   "source": [
    "df['ilan_kategorisi'] = df['ilan_kategorisi'].apply(eval)\n",
    "df['vasıta_id'] = df['ilan_kategorisi'].apply(lambda x: x[0]['id'])\n",
    "df['vasıta_label'] = df['ilan_kategorisi'].apply(lambda x: x[0]['label'])\n",
    "df['otomobil_id'] = df['ilan_kategorisi'].apply(lambda x: x[1]['id'])\n",
    "df['otomobil_label'] = df['ilan_kategorisi'].apply(lambda x: x[1]['label'])\n",
    "df['marka_id'] = df['ilan_kategorisi'].apply(lambda x: x[2]['id'])\n",
    "df['marka_label'] = df['ilan_kategorisi'].apply(lambda x: x[2]['label'])\n",
    "df['model_id'] = df['ilan_kategorisi'].apply(lambda x: x[3]['id'])\n",
    "df['model_label'] = df['ilan_kategorisi'].apply(lambda x: x[3]['label'])\n",
    "df['ek_model_id'] = df['ilan_kategorisi'].apply(lambda x: x[4]['id']\n",
    "                                                if len(x) > 6 else None)\n",
    "df['ek_model_label'] = df['ilan_kategorisi'].apply(lambda x: x[4]['label']\n",
    "                                                   if len(x) > 6 else None)\n",
    "df['motor_id'] = df['ilan_kategorisi'].apply(lambda x: x[5]['id']\n",
    "                                             if len(x) > 6 else x[4]['id'])\n",
    "df['motor_label'] = df['ilan_kategorisi'].apply(\n",
    "    lambda x: x[5]['label'] if len(x) > 6 else x[4]['label'])\n",
    "df['paket_id'] = df['ilan_kategorisi'].apply(lambda x: x[6]['id']\n",
    "                                             if len(x) > 6 else x[5]['id'])\n",
    "df['paket_label'] = df['ilan_kategorisi'].apply(\n",
    "    lambda x: x[6]['label'] if len(x) > 6 else x[5]['label'])\n",
    "df['ek_model_label'] = df['ek_model_label'].replace({None: np.nan})"
   ]
  },
  {
   "cell_type": "markdown",
   "id": "a30e9529",
   "metadata": {},
   "source": [
    "Dataframeimizin ilk 3 satırını ekrana yazdıralım."
   ]
  },
  {
   "cell_type": "code",
   "execution_count": 4,
   "id": "e677d881",
   "metadata": {},
   "outputs": [
    {
     "data": {
      "text/html": [
       "<div>\n",
       "<style scoped>\n",
       "    .dataframe tbody tr th:only-of-type {\n",
       "        vertical-align: middle;\n",
       "    }\n",
       "\n",
       "    .dataframe tbody tr th {\n",
       "        vertical-align: top;\n",
       "    }\n",
       "\n",
       "    .dataframe thead th {\n",
       "        text-align: right;\n",
       "    }\n",
       "</style>\n",
       "<table border=\"1\" class=\"dataframe\">\n",
       "  <thead>\n",
       "    <tr style=\"text-align: right;\">\n",
       "      <th></th>\n",
       "      <th>ilan_id</th>\n",
       "      <th>ilan_basligi</th>\n",
       "      <th>fiyat</th>\n",
       "      <th>fiyat_kuru</th>\n",
       "      <th>ilan_tarihi</th>\n",
       "      <th>ilan_kategorisi</th>\n",
       "      <th>arac_tagleri</th>\n",
       "      <th>ilan_konumu</th>\n",
       "      <th>arac_ozellikleri</th>\n",
       "      <th>vasıta_id</th>\n",
       "      <th>...</th>\n",
       "      <th>marka_id</th>\n",
       "      <th>marka_label</th>\n",
       "      <th>model_id</th>\n",
       "      <th>model_label</th>\n",
       "      <th>ek_model_id</th>\n",
       "      <th>ek_model_label</th>\n",
       "      <th>motor_id</th>\n",
       "      <th>motor_label</th>\n",
       "      <th>paket_id</th>\n",
       "      <th>paket_label</th>\n",
       "    </tr>\n",
       "  </thead>\n",
       "  <tbody>\n",
       "    <tr>\n",
       "      <th>0</th>\n",
       "      <td>1080850207</td>\n",
       "      <td>DEĞİŞENSİZ YENİ MUAYENELİ RENAULT MEGANE FUL D...</td>\n",
       "      <td>830000.0</td>\n",
       "      <td>TL</td>\n",
       "      <td>2023-05-26 09:23:29.000000</td>\n",
       "      <td>[{'id': 3517, 'label': 'Vasıta'}, {'id': 3530,...</td>\n",
       "      <td>{'Model': '1.5 dCi Icon', 'Marka': 'Renault', ...</td>\n",
       "      <td>İstanbul, Ümraniye</td>\n",
       "      <td>['143.000 km', '2016 model', 'Dizel', '110 hp'...</td>\n",
       "      <td>3517</td>\n",
       "      <td>...</td>\n",
       "      <td>3597</td>\n",
       "      <td>Renault</td>\n",
       "      <td>23615</td>\n",
       "      <td>Megane</td>\n",
       "      <td>NaN</td>\n",
       "      <td>NaN</td>\n",
       "      <td>197932</td>\n",
       "      <td>1.5 dCi</td>\n",
       "      <td>191830</td>\n",
       "      <td>Icon</td>\n",
       "    </tr>\n",
       "    <tr>\n",
       "      <th>1</th>\n",
       "      <td>1101850722</td>\n",
       "      <td>KAZA,BOYA,DEĞİŞEN,TRAMER YOK. 80.000 km.</td>\n",
       "      <td>905000.0</td>\n",
       "      <td>TL</td>\n",
       "      <td>2023-05-26 09:23:13.000000</td>\n",
       "      <td>[{'id': 3517, 'label': 'Vasıta'}, {'id': 3530,...</td>\n",
       "      <td>{'Model': '1.5 dCi Icon', 'Marka': 'Renault', ...</td>\n",
       "      <td>İzmir, Konak</td>\n",
       "      <td>['80.000 km', '2017 model', 'Dizel', '110 hp',...</td>\n",
       "      <td>3517</td>\n",
       "      <td>...</td>\n",
       "      <td>3597</td>\n",
       "      <td>Renault</td>\n",
       "      <td>23615</td>\n",
       "      <td>Megane</td>\n",
       "      <td>NaN</td>\n",
       "      <td>NaN</td>\n",
       "      <td>197932</td>\n",
       "      <td>1.5 dCi</td>\n",
       "      <td>191830</td>\n",
       "      <td>Icon</td>\n",
       "    </tr>\n",
       "    <tr>\n",
       "      <th>2</th>\n",
       "      <td>1101855061</td>\n",
       "      <td>HATASIZ AYARINDA MASRAFSIZ AUDİ A3</td>\n",
       "      <td>695000.0</td>\n",
       "      <td>TL</td>\n",
       "      <td>2023-05-26 09:22:58.000000</td>\n",
       "      <td>[{'id': 3517, 'label': 'Vasıta'}, {'id': 3530,...</td>\n",
       "      <td>{'Model': 'A3 Sportback 1.6', 'Marka': 'Audi',...</td>\n",
       "      <td>Adana, Seyhan</td>\n",
       "      <td>['177.000 km', '2011 model', 'Benzin &amp; LPG', '...</td>\n",
       "      <td>3517</td>\n",
       "      <td>...</td>\n",
       "      <td>3549</td>\n",
       "      <td>Audi</td>\n",
       "      <td>23422</td>\n",
       "      <td>A3</td>\n",
       "      <td>231816.0</td>\n",
       "      <td>A3 Sportback</td>\n",
       "      <td>199112</td>\n",
       "      <td>1.6</td>\n",
       "      <td>3774</td>\n",
       "      <td>Attraction</td>\n",
       "    </tr>\n",
       "  </tbody>\n",
       "</table>\n",
       "<p>3 rows × 23 columns</p>\n",
       "</div>"
      ],
      "text/plain": [
       "      ilan_id                                       ilan_basligi     fiyat  \\\n",
       "0  1080850207  DEĞİŞENSİZ YENİ MUAYENELİ RENAULT MEGANE FUL D...  830000.0   \n",
       "1  1101850722           KAZA,BOYA,DEĞİŞEN,TRAMER YOK. 80.000 km.  905000.0   \n",
       "2  1101855061                 HATASIZ AYARINDA MASRAFSIZ AUDİ A3  695000.0   \n",
       "\n",
       "  fiyat_kuru                 ilan_tarihi  \\\n",
       "0         TL  2023-05-26 09:23:29.000000   \n",
       "1         TL  2023-05-26 09:23:13.000000   \n",
       "2         TL  2023-05-26 09:22:58.000000   \n",
       "\n",
       "                                     ilan_kategorisi  \\\n",
       "0  [{'id': 3517, 'label': 'Vasıta'}, {'id': 3530,...   \n",
       "1  [{'id': 3517, 'label': 'Vasıta'}, {'id': 3530,...   \n",
       "2  [{'id': 3517, 'label': 'Vasıta'}, {'id': 3530,...   \n",
       "\n",
       "                                        arac_tagleri         ilan_konumu  \\\n",
       "0  {'Model': '1.5 dCi Icon', 'Marka': 'Renault', ...  İstanbul, Ümraniye   \n",
       "1  {'Model': '1.5 dCi Icon', 'Marka': 'Renault', ...        İzmir, Konak   \n",
       "2  {'Model': 'A3 Sportback 1.6', 'Marka': 'Audi',...       Adana, Seyhan   \n",
       "\n",
       "                                    arac_ozellikleri  vasıta_id  ... marka_id  \\\n",
       "0  ['143.000 km', '2016 model', 'Dizel', '110 hp'...       3517  ...     3597   \n",
       "1  ['80.000 km', '2017 model', 'Dizel', '110 hp',...       3517  ...     3597   \n",
       "2  ['177.000 km', '2011 model', 'Benzin & LPG', '...       3517  ...     3549   \n",
       "\n",
       "   marka_label model_id  model_label ek_model_id  ek_model_label motor_id  \\\n",
       "0      Renault    23615       Megane         NaN             NaN   197932   \n",
       "1      Renault    23615       Megane         NaN             NaN   197932   \n",
       "2         Audi    23422           A3    231816.0    A3 Sportback   199112   \n",
       "\n",
       "   motor_label paket_id  paket_label  \n",
       "0      1.5 dCi   191830         Icon  \n",
       "1      1.5 dCi   191830         Icon  \n",
       "2          1.6     3774   Attraction  \n",
       "\n",
       "[3 rows x 23 columns]"
      ]
     },
     "execution_count": 4,
     "metadata": {},
     "output_type": "execute_result"
    }
   ],
   "source": [
    "df.head(3)"
   ]
  },
  {
   "cell_type": "markdown",
   "id": "d71b304f",
   "metadata": {},
   "source": [
    "arac_tagleri sütununda yer alan araç ile ilgili model, marka, seri gibi değişkenlerini alıp model, marka, seri sutünlarına yerleştirelim."
   ]
  },
  {
   "cell_type": "code",
   "execution_count": 5,
   "id": "59c66d94",
   "metadata": {},
   "outputs": [
    {
     "data": {
      "text/html": [
       "<div>\n",
       "<style scoped>\n",
       "    .dataframe tbody tr th:only-of-type {\n",
       "        vertical-align: middle;\n",
       "    }\n",
       "\n",
       "    .dataframe tbody tr th {\n",
       "        vertical-align: top;\n",
       "    }\n",
       "\n",
       "    .dataframe thead th {\n",
       "        text-align: right;\n",
       "    }\n",
       "</style>\n",
       "<table border=\"1\" class=\"dataframe\">\n",
       "  <thead>\n",
       "    <tr style=\"text-align: right;\">\n",
       "      <th></th>\n",
       "      <th>ilan_id</th>\n",
       "      <th>ilan_basligi</th>\n",
       "      <th>fiyat</th>\n",
       "      <th>fiyat_kuru</th>\n",
       "      <th>ilan_tarihi</th>\n",
       "      <th>ilan_kategorisi</th>\n",
       "      <th>arac_tagleri</th>\n",
       "      <th>ilan_konumu</th>\n",
       "      <th>arac_ozellikleri</th>\n",
       "      <th>vasıta_id</th>\n",
       "      <th>...</th>\n",
       "      <th>model_label</th>\n",
       "      <th>ek_model_id</th>\n",
       "      <th>ek_model_label</th>\n",
       "      <th>motor_id</th>\n",
       "      <th>motor_label</th>\n",
       "      <th>paket_id</th>\n",
       "      <th>paket_label</th>\n",
       "      <th>model</th>\n",
       "      <th>marka</th>\n",
       "      <th>seri</th>\n",
       "    </tr>\n",
       "  </thead>\n",
       "  <tbody>\n",
       "    <tr>\n",
       "      <th>0</th>\n",
       "      <td>1080850207</td>\n",
       "      <td>DEĞİŞENSİZ YENİ MUAYENELİ RENAULT MEGANE FUL D...</td>\n",
       "      <td>830000.0</td>\n",
       "      <td>TL</td>\n",
       "      <td>2023-05-26 09:23:29.000000</td>\n",
       "      <td>[{'id': 3517, 'label': 'Vasıta'}, {'id': 3530,...</td>\n",
       "      <td>{'Model': '1.5 dCi Icon', 'Marka': 'Renault', ...</td>\n",
       "      <td>İstanbul, Ümraniye</td>\n",
       "      <td>['143.000 km', '2016 model', 'Dizel', '110 hp'...</td>\n",
       "      <td>3517</td>\n",
       "      <td>...</td>\n",
       "      <td>Megane</td>\n",
       "      <td>NaN</td>\n",
       "      <td>NaN</td>\n",
       "      <td>197932</td>\n",
       "      <td>1.5 dCi</td>\n",
       "      <td>191830</td>\n",
       "      <td>Icon</td>\n",
       "      <td>1.5 dCi Icon</td>\n",
       "      <td>Renault</td>\n",
       "      <td>Megane</td>\n",
       "    </tr>\n",
       "    <tr>\n",
       "      <th>1</th>\n",
       "      <td>1101850722</td>\n",
       "      <td>KAZA,BOYA,DEĞİŞEN,TRAMER YOK. 80.000 km.</td>\n",
       "      <td>905000.0</td>\n",
       "      <td>TL</td>\n",
       "      <td>2023-05-26 09:23:13.000000</td>\n",
       "      <td>[{'id': 3517, 'label': 'Vasıta'}, {'id': 3530,...</td>\n",
       "      <td>{'Model': '1.5 dCi Icon', 'Marka': 'Renault', ...</td>\n",
       "      <td>İzmir, Konak</td>\n",
       "      <td>['80.000 km', '2017 model', 'Dizel', '110 hp',...</td>\n",
       "      <td>3517</td>\n",
       "      <td>...</td>\n",
       "      <td>Megane</td>\n",
       "      <td>NaN</td>\n",
       "      <td>NaN</td>\n",
       "      <td>197932</td>\n",
       "      <td>1.5 dCi</td>\n",
       "      <td>191830</td>\n",
       "      <td>Icon</td>\n",
       "      <td>1.5 dCi Icon</td>\n",
       "      <td>Renault</td>\n",
       "      <td>Megane</td>\n",
       "    </tr>\n",
       "    <tr>\n",
       "      <th>2</th>\n",
       "      <td>1101855061</td>\n",
       "      <td>HATASIZ AYARINDA MASRAFSIZ AUDİ A3</td>\n",
       "      <td>695000.0</td>\n",
       "      <td>TL</td>\n",
       "      <td>2023-05-26 09:22:58.000000</td>\n",
       "      <td>[{'id': 3517, 'label': 'Vasıta'}, {'id': 3530,...</td>\n",
       "      <td>{'Model': 'A3 Sportback 1.6', 'Marka': 'Audi',...</td>\n",
       "      <td>Adana, Seyhan</td>\n",
       "      <td>['177.000 km', '2011 model', 'Benzin &amp; LPG', '...</td>\n",
       "      <td>3517</td>\n",
       "      <td>...</td>\n",
       "      <td>A3</td>\n",
       "      <td>231816.0</td>\n",
       "      <td>A3 Sportback</td>\n",
       "      <td>199112</td>\n",
       "      <td>1.6</td>\n",
       "      <td>3774</td>\n",
       "      <td>Attraction</td>\n",
       "      <td>A3 Sportback 1.6</td>\n",
       "      <td>Audi</td>\n",
       "      <td>A3</td>\n",
       "    </tr>\n",
       "  </tbody>\n",
       "</table>\n",
       "<p>3 rows × 26 columns</p>\n",
       "</div>"
      ],
      "text/plain": [
       "      ilan_id                                       ilan_basligi     fiyat  \\\n",
       "0  1080850207  DEĞİŞENSİZ YENİ MUAYENELİ RENAULT MEGANE FUL D...  830000.0   \n",
       "1  1101850722           KAZA,BOYA,DEĞİŞEN,TRAMER YOK. 80.000 km.  905000.0   \n",
       "2  1101855061                 HATASIZ AYARINDA MASRAFSIZ AUDİ A3  695000.0   \n",
       "\n",
       "  fiyat_kuru                 ilan_tarihi  \\\n",
       "0         TL  2023-05-26 09:23:29.000000   \n",
       "1         TL  2023-05-26 09:23:13.000000   \n",
       "2         TL  2023-05-26 09:22:58.000000   \n",
       "\n",
       "                                     ilan_kategorisi  \\\n",
       "0  [{'id': 3517, 'label': 'Vasıta'}, {'id': 3530,...   \n",
       "1  [{'id': 3517, 'label': 'Vasıta'}, {'id': 3530,...   \n",
       "2  [{'id': 3517, 'label': 'Vasıta'}, {'id': 3530,...   \n",
       "\n",
       "                                        arac_tagleri         ilan_konumu  \\\n",
       "0  {'Model': '1.5 dCi Icon', 'Marka': 'Renault', ...  İstanbul, Ümraniye   \n",
       "1  {'Model': '1.5 dCi Icon', 'Marka': 'Renault', ...        İzmir, Konak   \n",
       "2  {'Model': 'A3 Sportback 1.6', 'Marka': 'Audi',...       Adana, Seyhan   \n",
       "\n",
       "                                    arac_ozellikleri  vasıta_id  ...  \\\n",
       "0  ['143.000 km', '2016 model', 'Dizel', '110 hp'...       3517  ...   \n",
       "1  ['80.000 km', '2017 model', 'Dizel', '110 hp',...       3517  ...   \n",
       "2  ['177.000 km', '2011 model', 'Benzin & LPG', '...       3517  ...   \n",
       "\n",
       "  model_label  ek_model_id ek_model_label  motor_id motor_label  paket_id  \\\n",
       "0      Megane          NaN            NaN    197932     1.5 dCi    191830   \n",
       "1      Megane          NaN            NaN    197932     1.5 dCi    191830   \n",
       "2          A3     231816.0   A3 Sportback    199112         1.6      3774   \n",
       "\n",
       "  paket_label             model    marka    seri  \n",
       "0        Icon      1.5 dCi Icon  Renault  Megane  \n",
       "1        Icon      1.5 dCi Icon  Renault  Megane  \n",
       "2  Attraction  A3 Sportback 1.6     Audi      A3  \n",
       "\n",
       "[3 rows x 26 columns]"
      ]
     },
     "execution_count": 5,
     "metadata": {},
     "output_type": "execute_result"
    }
   ],
   "source": [
    "df[['model', 'marka', 'seri']] = df['arac_tagleri'].str.extract(\n",
    "    r\"{'Model': '(.*?)', 'Marka': '(.*?)', 'Seri': '(.*?)'}\")\n",
    "df.head(3)"
   ]
  },
  {
   "cell_type": "markdown",
   "id": "b2809c00",
   "metadata": {},
   "source": [
    "ilan_konumu sütununda yer alan il,ilçe,mahalle gibi verileri alıp il, ilçe, mahalle sütunlarına yerleştirelim"
   ]
  },
  {
   "cell_type": "code",
   "execution_count": 6,
   "id": "39716a00",
   "metadata": {},
   "outputs": [],
   "source": [
    "df['il'] = ''\n",
    "df['ilce'] = ''\n",
    "df['mahalle'] = ''\n",
    "for index, row in df.iterrows():\n",
    "    konum = row['ilan_konumu'].split(', ')\n",
    "    if konum[0] in [\n",
    "            \"Adana\", \"Adıyaman\", \"Afyonkarahisar\", \"Ağrı\", \"Aksaray\", \"Amasya\",\n",
    "            \"Ankara\", \"Antalya\", \"Ardahan\", \"Artvin\", \"Aydın\", \"Balıkesir\",\n",
    "            \"Bartın\", \"Batman\", \"Bayburt\", \"Bilecik\", \"Bingöl\", \"Bitlis\",\n",
    "            \"Bolu\", \"Burdur\", \"Bursa\", \"Çanakkale\", \"Çankırı\", \"Çorum\",\n",
    "            \"Denizli\", \"Diyarbakır\", \"Düzce\", \"Edirne\", \"Elazığ\", \"Erzincan\",\n",
    "            \"Erzurum\", \"Eskişehir\", \"Gaziantep\", \"Giresun\", \"Gümüşhane\",\n",
    "            \"Hakkari\", \"Hatay\", \"Iğdır\", \"Isparta\", \"Mersin\", \"İstanbul\",\n",
    "            \"İzmir\", \"Kahramanmaraş\", \"Karabük\", \"Karaman\", \"Kars\",\n",
    "            \"Kastamonu\", \"Kayseri\", \"Kırıkkale\", \"Kırklareli\", \"Kırşehir\",\n",
    "            \"Kilis\", \"Kocaeli\", \"Konya\", \"Kütahya\", \"Malatya\", \"Manisa\",\n",
    "            \"Mardin\", \"Muğla\", \"Muş\", \"Nevşehir\", \"Niğde\", \"Ordu\", \"Osmaniye\",\n",
    "            \"Rize\", \"Sakarya\", \"Samsun\", \"Siirt\", \"Sinop\", \"Sivas\",\n",
    "            \"Şanlıurfa\", \"Şırnak\", \"Tekirdağ\", \"Tokat\", \"Trabzon\", \"Tunceli\",\n",
    "            \"Uşak\", \"Van\", \"Yalova\", \"Yozgat\", \"Zonguldak\"\n",
    "    ]:\n",
    "        df.at[index, 'il'] = konum[0]\n",
    "        if len(konum) > 1:\n",
    "            df.at[index, 'ilce'] = konum[1]\n",
    "    else:\n",
    "        df.at[index, 'ilce'] = konum[0]\n",
    "        if len(konum) > 1:\n",
    "            df.at[index, 'mahalle'] = konum[1]"
   ]
  },
  {
   "cell_type": "markdown",
   "id": "55724247",
   "metadata": {},
   "source": [
    "il, ilçe, mahalle sütunlarındaki değerleri NaN değişken olarak değiştirelim. "
   ]
  },
  {
   "cell_type": "code",
   "execution_count": 7,
   "id": "296f6b37",
   "metadata": {},
   "outputs": [
    {
     "data": {
      "text/html": [
       "<div>\n",
       "<style scoped>\n",
       "    .dataframe tbody tr th:only-of-type {\n",
       "        vertical-align: middle;\n",
       "    }\n",
       "\n",
       "    .dataframe tbody tr th {\n",
       "        vertical-align: top;\n",
       "    }\n",
       "\n",
       "    .dataframe thead th {\n",
       "        text-align: right;\n",
       "    }\n",
       "</style>\n",
       "<table border=\"1\" class=\"dataframe\">\n",
       "  <thead>\n",
       "    <tr style=\"text-align: right;\">\n",
       "      <th></th>\n",
       "      <th>ilan_id</th>\n",
       "      <th>ilan_basligi</th>\n",
       "      <th>fiyat</th>\n",
       "      <th>fiyat_kuru</th>\n",
       "      <th>ilan_tarihi</th>\n",
       "      <th>ilan_kategorisi</th>\n",
       "      <th>arac_tagleri</th>\n",
       "      <th>ilan_konumu</th>\n",
       "      <th>arac_ozellikleri</th>\n",
       "      <th>vasıta_id</th>\n",
       "      <th>...</th>\n",
       "      <th>motor_id</th>\n",
       "      <th>motor_label</th>\n",
       "      <th>paket_id</th>\n",
       "      <th>paket_label</th>\n",
       "      <th>model</th>\n",
       "      <th>marka</th>\n",
       "      <th>seri</th>\n",
       "      <th>il</th>\n",
       "      <th>ilce</th>\n",
       "      <th>mahalle</th>\n",
       "    </tr>\n",
       "  </thead>\n",
       "  <tbody>\n",
       "    <tr>\n",
       "      <th>0</th>\n",
       "      <td>1080850207</td>\n",
       "      <td>DEĞİŞENSİZ YENİ MUAYENELİ RENAULT MEGANE FUL D...</td>\n",
       "      <td>830000.0</td>\n",
       "      <td>TL</td>\n",
       "      <td>2023-05-26 09:23:29.000000</td>\n",
       "      <td>[{'id': 3517, 'label': 'Vasıta'}, {'id': 3530,...</td>\n",
       "      <td>{'Model': '1.5 dCi Icon', 'Marka': 'Renault', ...</td>\n",
       "      <td>İstanbul, Ümraniye</td>\n",
       "      <td>['143.000 km', '2016 model', 'Dizel', '110 hp'...</td>\n",
       "      <td>3517</td>\n",
       "      <td>...</td>\n",
       "      <td>197932</td>\n",
       "      <td>1.5 dCi</td>\n",
       "      <td>191830</td>\n",
       "      <td>Icon</td>\n",
       "      <td>1.5 dCi Icon</td>\n",
       "      <td>Renault</td>\n",
       "      <td>Megane</td>\n",
       "      <td>İstanbul</td>\n",
       "      <td>Ümraniye</td>\n",
       "      <td>NaN</td>\n",
       "    </tr>\n",
       "    <tr>\n",
       "      <th>1</th>\n",
       "      <td>1101850722</td>\n",
       "      <td>KAZA,BOYA,DEĞİŞEN,TRAMER YOK. 80.000 km.</td>\n",
       "      <td>905000.0</td>\n",
       "      <td>TL</td>\n",
       "      <td>2023-05-26 09:23:13.000000</td>\n",
       "      <td>[{'id': 3517, 'label': 'Vasıta'}, {'id': 3530,...</td>\n",
       "      <td>{'Model': '1.5 dCi Icon', 'Marka': 'Renault', ...</td>\n",
       "      <td>İzmir, Konak</td>\n",
       "      <td>['80.000 km', '2017 model', 'Dizel', '110 hp',...</td>\n",
       "      <td>3517</td>\n",
       "      <td>...</td>\n",
       "      <td>197932</td>\n",
       "      <td>1.5 dCi</td>\n",
       "      <td>191830</td>\n",
       "      <td>Icon</td>\n",
       "      <td>1.5 dCi Icon</td>\n",
       "      <td>Renault</td>\n",
       "      <td>Megane</td>\n",
       "      <td>İzmir</td>\n",
       "      <td>Konak</td>\n",
       "      <td>NaN</td>\n",
       "    </tr>\n",
       "    <tr>\n",
       "      <th>2</th>\n",
       "      <td>1101855061</td>\n",
       "      <td>HATASIZ AYARINDA MASRAFSIZ AUDİ A3</td>\n",
       "      <td>695000.0</td>\n",
       "      <td>TL</td>\n",
       "      <td>2023-05-26 09:22:58.000000</td>\n",
       "      <td>[{'id': 3517, 'label': 'Vasıta'}, {'id': 3530,...</td>\n",
       "      <td>{'Model': 'A3 Sportback 1.6', 'Marka': 'Audi',...</td>\n",
       "      <td>Adana, Seyhan</td>\n",
       "      <td>['177.000 km', '2011 model', 'Benzin &amp; LPG', '...</td>\n",
       "      <td>3517</td>\n",
       "      <td>...</td>\n",
       "      <td>199112</td>\n",
       "      <td>1.6</td>\n",
       "      <td>3774</td>\n",
       "      <td>Attraction</td>\n",
       "      <td>A3 Sportback 1.6</td>\n",
       "      <td>Audi</td>\n",
       "      <td>A3</td>\n",
       "      <td>Adana</td>\n",
       "      <td>Seyhan</td>\n",
       "      <td>NaN</td>\n",
       "    </tr>\n",
       "  </tbody>\n",
       "</table>\n",
       "<p>3 rows × 29 columns</p>\n",
       "</div>"
      ],
      "text/plain": [
       "      ilan_id                                       ilan_basligi     fiyat  \\\n",
       "0  1080850207  DEĞİŞENSİZ YENİ MUAYENELİ RENAULT MEGANE FUL D...  830000.0   \n",
       "1  1101850722           KAZA,BOYA,DEĞİŞEN,TRAMER YOK. 80.000 km.  905000.0   \n",
       "2  1101855061                 HATASIZ AYARINDA MASRAFSIZ AUDİ A3  695000.0   \n",
       "\n",
       "  fiyat_kuru                 ilan_tarihi  \\\n",
       "0         TL  2023-05-26 09:23:29.000000   \n",
       "1         TL  2023-05-26 09:23:13.000000   \n",
       "2         TL  2023-05-26 09:22:58.000000   \n",
       "\n",
       "                                     ilan_kategorisi  \\\n",
       "0  [{'id': 3517, 'label': 'Vasıta'}, {'id': 3530,...   \n",
       "1  [{'id': 3517, 'label': 'Vasıta'}, {'id': 3530,...   \n",
       "2  [{'id': 3517, 'label': 'Vasıta'}, {'id': 3530,...   \n",
       "\n",
       "                                        arac_tagleri         ilan_konumu  \\\n",
       "0  {'Model': '1.5 dCi Icon', 'Marka': 'Renault', ...  İstanbul, Ümraniye   \n",
       "1  {'Model': '1.5 dCi Icon', 'Marka': 'Renault', ...        İzmir, Konak   \n",
       "2  {'Model': 'A3 Sportback 1.6', 'Marka': 'Audi',...       Adana, Seyhan   \n",
       "\n",
       "                                    arac_ozellikleri  vasıta_id  ... motor_id  \\\n",
       "0  ['143.000 km', '2016 model', 'Dizel', '110 hp'...       3517  ...   197932   \n",
       "1  ['80.000 km', '2017 model', 'Dizel', '110 hp',...       3517  ...   197932   \n",
       "2  ['177.000 km', '2011 model', 'Benzin & LPG', '...       3517  ...   199112   \n",
       "\n",
       "   motor_label paket_id  paket_label             model    marka    seri  \\\n",
       "0      1.5 dCi   191830         Icon      1.5 dCi Icon  Renault  Megane   \n",
       "1      1.5 dCi   191830         Icon      1.5 dCi Icon  Renault  Megane   \n",
       "2          1.6     3774   Attraction  A3 Sportback 1.6     Audi      A3   \n",
       "\n",
       "         il      ilce  mahalle  \n",
       "0  İstanbul  Ümraniye      NaN  \n",
       "1     İzmir     Konak      NaN  \n",
       "2     Adana    Seyhan      NaN  \n",
       "\n",
       "[3 rows x 29 columns]"
      ]
     },
     "execution_count": 7,
     "metadata": {},
     "output_type": "execute_result"
    }
   ],
   "source": [
    "df[\"il\"].replace(to_replace=\"\", value=np.NAN, inplace=True)\n",
    "df[\"ilce\"].replace(to_replace=\"\", value=np.NAN, inplace=True)\n",
    "df[\"mahalle\"].replace(to_replace=\"\", value=np.NAN, inplace=True)\n",
    "df.head(3)"
   ]
  },
  {
   "cell_type": "markdown",
   "id": "56028002",
   "metadata": {},
   "source": [
    "arac_ozellikleri sütunundaki karmaşık verileri ayrı ayrı sütunlara çekelim ve df'e koyalım."
   ]
  },
  {
   "cell_type": "code",
   "execution_count": 8,
   "id": "01e132c0",
   "metadata": {},
   "outputs": [
    {
     "data": {
      "text/html": [
       "<div>\n",
       "<style scoped>\n",
       "    .dataframe tbody tr th:only-of-type {\n",
       "        vertical-align: middle;\n",
       "    }\n",
       "\n",
       "    .dataframe tbody tr th {\n",
       "        vertical-align: top;\n",
       "    }\n",
       "\n",
       "    .dataframe thead th {\n",
       "        text-align: right;\n",
       "    }\n",
       "</style>\n",
       "<table border=\"1\" class=\"dataframe\">\n",
       "  <thead>\n",
       "    <tr style=\"text-align: right;\">\n",
       "      <th></th>\n",
       "      <th>ilan_id</th>\n",
       "      <th>ilan_basligi</th>\n",
       "      <th>fiyat</th>\n",
       "      <th>fiyat_kuru</th>\n",
       "      <th>ilan_tarihi</th>\n",
       "      <th>ilan_kategorisi</th>\n",
       "      <th>arac_tagleri</th>\n",
       "      <th>ilan_konumu</th>\n",
       "      <th>arac_ozellikleri</th>\n",
       "      <th>vasıta_id</th>\n",
       "      <th>...</th>\n",
       "      <th>marka</th>\n",
       "      <th>seri</th>\n",
       "      <th>il</th>\n",
       "      <th>ilce</th>\n",
       "      <th>mahalle</th>\n",
       "      <th>km_bilgisi</th>\n",
       "      <th>model_yili</th>\n",
       "      <th>yakit_turu</th>\n",
       "      <th>beygir_gucu</th>\n",
       "      <th>vites_turu</th>\n",
       "    </tr>\n",
       "  </thead>\n",
       "  <tbody>\n",
       "    <tr>\n",
       "      <th>0</th>\n",
       "      <td>1080850207</td>\n",
       "      <td>DEĞİŞENSİZ YENİ MUAYENELİ RENAULT MEGANE FUL D...</td>\n",
       "      <td>830000.0</td>\n",
       "      <td>TL</td>\n",
       "      <td>2023-05-26 09:23:29.000000</td>\n",
       "      <td>[{'id': 3517, 'label': 'Vasıta'}, {'id': 3530,...</td>\n",
       "      <td>{'Model': '1.5 dCi Icon', 'Marka': 'Renault', ...</td>\n",
       "      <td>İstanbul, Ümraniye</td>\n",
       "      <td>['143.000 km', '2016 model', 'Dizel', '110 hp'...</td>\n",
       "      <td>3517</td>\n",
       "      <td>...</td>\n",
       "      <td>Renault</td>\n",
       "      <td>Megane</td>\n",
       "      <td>İstanbul</td>\n",
       "      <td>Ümraniye</td>\n",
       "      <td>NaN</td>\n",
       "      <td>143000</td>\n",
       "      <td>2016</td>\n",
       "      <td>Dizel</td>\n",
       "      <td>110</td>\n",
       "      <td>Otomatik</td>\n",
       "    </tr>\n",
       "    <tr>\n",
       "      <th>1</th>\n",
       "      <td>1101850722</td>\n",
       "      <td>KAZA,BOYA,DEĞİŞEN,TRAMER YOK. 80.000 km.</td>\n",
       "      <td>905000.0</td>\n",
       "      <td>TL</td>\n",
       "      <td>2023-05-26 09:23:13.000000</td>\n",
       "      <td>[{'id': 3517, 'label': 'Vasıta'}, {'id': 3530,...</td>\n",
       "      <td>{'Model': '1.5 dCi Icon', 'Marka': 'Renault', ...</td>\n",
       "      <td>İzmir, Konak</td>\n",
       "      <td>['80.000 km', '2017 model', 'Dizel', '110 hp',...</td>\n",
       "      <td>3517</td>\n",
       "      <td>...</td>\n",
       "      <td>Renault</td>\n",
       "      <td>Megane</td>\n",
       "      <td>İzmir</td>\n",
       "      <td>Konak</td>\n",
       "      <td>NaN</td>\n",
       "      <td>80000</td>\n",
       "      <td>2017</td>\n",
       "      <td>Dizel</td>\n",
       "      <td>110</td>\n",
       "      <td>Otomatik</td>\n",
       "    </tr>\n",
       "    <tr>\n",
       "      <th>2</th>\n",
       "      <td>1101855061</td>\n",
       "      <td>HATASIZ AYARINDA MASRAFSIZ AUDİ A3</td>\n",
       "      <td>695000.0</td>\n",
       "      <td>TL</td>\n",
       "      <td>2023-05-26 09:22:58.000000</td>\n",
       "      <td>[{'id': 3517, 'label': 'Vasıta'}, {'id': 3530,...</td>\n",
       "      <td>{'Model': 'A3 Sportback 1.6', 'Marka': 'Audi',...</td>\n",
       "      <td>Adana, Seyhan</td>\n",
       "      <td>['177.000 km', '2011 model', 'Benzin &amp; LPG', '...</td>\n",
       "      <td>3517</td>\n",
       "      <td>...</td>\n",
       "      <td>Audi</td>\n",
       "      <td>A3</td>\n",
       "      <td>Adana</td>\n",
       "      <td>Seyhan</td>\n",
       "      <td>NaN</td>\n",
       "      <td>177000</td>\n",
       "      <td>2011</td>\n",
       "      <td>Benzin &amp; LPG</td>\n",
       "      <td>102</td>\n",
       "      <td>Manuel</td>\n",
       "    </tr>\n",
       "  </tbody>\n",
       "</table>\n",
       "<p>3 rows × 34 columns</p>\n",
       "</div>"
      ],
      "text/plain": [
       "      ilan_id                                       ilan_basligi     fiyat  \\\n",
       "0  1080850207  DEĞİŞENSİZ YENİ MUAYENELİ RENAULT MEGANE FUL D...  830000.0   \n",
       "1  1101850722           KAZA,BOYA,DEĞİŞEN,TRAMER YOK. 80.000 km.  905000.0   \n",
       "2  1101855061                 HATASIZ AYARINDA MASRAFSIZ AUDİ A3  695000.0   \n",
       "\n",
       "  fiyat_kuru                 ilan_tarihi  \\\n",
       "0         TL  2023-05-26 09:23:29.000000   \n",
       "1         TL  2023-05-26 09:23:13.000000   \n",
       "2         TL  2023-05-26 09:22:58.000000   \n",
       "\n",
       "                                     ilan_kategorisi  \\\n",
       "0  [{'id': 3517, 'label': 'Vasıta'}, {'id': 3530,...   \n",
       "1  [{'id': 3517, 'label': 'Vasıta'}, {'id': 3530,...   \n",
       "2  [{'id': 3517, 'label': 'Vasıta'}, {'id': 3530,...   \n",
       "\n",
       "                                        arac_tagleri         ilan_konumu  \\\n",
       "0  {'Model': '1.5 dCi Icon', 'Marka': 'Renault', ...  İstanbul, Ümraniye   \n",
       "1  {'Model': '1.5 dCi Icon', 'Marka': 'Renault', ...        İzmir, Konak   \n",
       "2  {'Model': 'A3 Sportback 1.6', 'Marka': 'Audi',...       Adana, Seyhan   \n",
       "\n",
       "                                    arac_ozellikleri  vasıta_id  ...    marka  \\\n",
       "0  ['143.000 km', '2016 model', 'Dizel', '110 hp'...       3517  ...  Renault   \n",
       "1  ['80.000 km', '2017 model', 'Dizel', '110 hp',...       3517  ...  Renault   \n",
       "2  ['177.000 km', '2011 model', 'Benzin & LPG', '...       3517  ...     Audi   \n",
       "\n",
       "     seri        il      ilce mahalle  km_bilgisi model_yili    yakit_turu  \\\n",
       "0  Megane  İstanbul  Ümraniye     NaN      143000       2016         Dizel   \n",
       "1  Megane     İzmir     Konak     NaN       80000       2017         Dizel   \n",
       "2      A3     Adana    Seyhan     NaN      177000       2011  Benzin & LPG   \n",
       "\n",
       "  beygir_gucu  vites_turu  \n",
       "0         110    Otomatik  \n",
       "1         110    Otomatik  \n",
       "2         102      Manuel  \n",
       "\n",
       "[3 rows x 34 columns]"
      ]
     },
     "execution_count": 8,
     "metadata": {},
     "output_type": "execute_result"
    }
   ],
   "source": [
    "df['km_bilgisi'] = df['arac_ozellikleri'].str.extract('(\\d+\\.\\d+|\\d+) km',\n",
    "                                                      expand=False)\n",
    "df['model_yili'] = df['arac_ozellikleri'].str.extract('(\\d{4}) model',\n",
    "                                                      expand=False)\n",
    "df['yakit_turu'] = df['arac_ozellikleri'].str.extract(\n",
    "    '(Elektrik|Hybrid|Dizel|Benzin & LPG|Benzin)', expand=False)\n",
    "df['beygir_gucu'] = df['arac_ozellikleri'].str.extract(\n",
    "    r'(\\d+ hp|\\d+ - \\d+ HP)')\n",
    "df['vites_turu'] = df['arac_ozellikleri'].str.extract(\n",
    "    '(Manuel|Otomatik|Yarı Otomatik)', expand=False)\n",
    "df['beygir_gucu'] = df['beygir_gucu'].str.replace(' hp',\n",
    "                                                  '').str.replace(' HP', '')\n",
    "df['beygir_gucu'] = df['beygir_gucu'].str.split(' - ').str[-1]\n",
    "df['km_bilgisi'] = df['km_bilgisi'].str.replace('.', '')\n",
    "df.head(3)"
   ]
  },
  {
   "cell_type": "markdown",
   "id": "f7f81b1f",
   "metadata": {},
   "source": [
    "Fiyat Tahmini İçin gerekli sutunlar hariç diğer sutunları silelim."
   ]
  },
  {
   "cell_type": "code",
   "execution_count": 9,
   "id": "99ff9c7f",
   "metadata": {},
   "outputs": [
    {
     "data": {
      "text/html": [
       "<div>\n",
       "<style scoped>\n",
       "    .dataframe tbody tr th:only-of-type {\n",
       "        vertical-align: middle;\n",
       "    }\n",
       "\n",
       "    .dataframe tbody tr th {\n",
       "        vertical-align: top;\n",
       "    }\n",
       "\n",
       "    .dataframe thead th {\n",
       "        text-align: right;\n",
       "    }\n",
       "</style>\n",
       "<table border=\"1\" class=\"dataframe\">\n",
       "  <thead>\n",
       "    <tr style=\"text-align: right;\">\n",
       "      <th></th>\n",
       "      <th>fiyat</th>\n",
       "      <th>otomobil_label</th>\n",
       "      <th>marka_label</th>\n",
       "      <th>model_label</th>\n",
       "      <th>motor_label</th>\n",
       "      <th>paket_label</th>\n",
       "      <th>il</th>\n",
       "      <th>ilce</th>\n",
       "      <th>mahalle</th>\n",
       "      <th>km_bilgisi</th>\n",
       "      <th>model_yili</th>\n",
       "      <th>yakit_turu</th>\n",
       "      <th>beygir_gucu</th>\n",
       "      <th>vites_turu</th>\n",
       "    </tr>\n",
       "  </thead>\n",
       "  <tbody>\n",
       "    <tr>\n",
       "      <th>0</th>\n",
       "      <td>830000.0</td>\n",
       "      <td>Otomobil</td>\n",
       "      <td>Renault</td>\n",
       "      <td>Megane</td>\n",
       "      <td>1.5 dCi</td>\n",
       "      <td>Icon</td>\n",
       "      <td>İstanbul</td>\n",
       "      <td>Ümraniye</td>\n",
       "      <td>NaN</td>\n",
       "      <td>143000</td>\n",
       "      <td>2016</td>\n",
       "      <td>Dizel</td>\n",
       "      <td>110</td>\n",
       "      <td>Otomatik</td>\n",
       "    </tr>\n",
       "    <tr>\n",
       "      <th>1</th>\n",
       "      <td>905000.0</td>\n",
       "      <td>Otomobil</td>\n",
       "      <td>Renault</td>\n",
       "      <td>Megane</td>\n",
       "      <td>1.5 dCi</td>\n",
       "      <td>Icon</td>\n",
       "      <td>İzmir</td>\n",
       "      <td>Konak</td>\n",
       "      <td>NaN</td>\n",
       "      <td>80000</td>\n",
       "      <td>2017</td>\n",
       "      <td>Dizel</td>\n",
       "      <td>110</td>\n",
       "      <td>Otomatik</td>\n",
       "    </tr>\n",
       "    <tr>\n",
       "      <th>2</th>\n",
       "      <td>695000.0</td>\n",
       "      <td>Otomobil</td>\n",
       "      <td>Audi</td>\n",
       "      <td>A3</td>\n",
       "      <td>1.6</td>\n",
       "      <td>Attraction</td>\n",
       "      <td>Adana</td>\n",
       "      <td>Seyhan</td>\n",
       "      <td>NaN</td>\n",
       "      <td>177000</td>\n",
       "      <td>2011</td>\n",
       "      <td>Benzin &amp; LPG</td>\n",
       "      <td>102</td>\n",
       "      <td>Manuel</td>\n",
       "    </tr>\n",
       "  </tbody>\n",
       "</table>\n",
       "</div>"
      ],
      "text/plain": [
       "      fiyat otomobil_label marka_label model_label motor_label paket_label  \\\n",
       "0  830000.0       Otomobil     Renault      Megane     1.5 dCi        Icon   \n",
       "1  905000.0       Otomobil     Renault      Megane     1.5 dCi        Icon   \n",
       "2  695000.0       Otomobil        Audi          A3         1.6  Attraction   \n",
       "\n",
       "         il      ilce mahalle km_bilgisi model_yili    yakit_turu beygir_gucu  \\\n",
       "0  İstanbul  Ümraniye     NaN     143000       2016         Dizel         110   \n",
       "1     İzmir     Konak     NaN      80000       2017         Dizel         110   \n",
       "2     Adana    Seyhan     NaN     177000       2011  Benzin & LPG         102   \n",
       "\n",
       "  vites_turu  \n",
       "0   Otomatik  \n",
       "1   Otomatik  \n",
       "2     Manuel  "
      ]
     },
     "execution_count": 9,
     "metadata": {},
     "output_type": "execute_result"
    }
   ],
   "source": [
    "silinecek_sutunlar = [\n",
    "    'ilan_id', 'ilan_basligi', 'fiyat_kuru', 'ilan_tarihi', 'ilan_kategorisi',\n",
    "    'arac_tagleri', 'ilan_konumu', 'arac_ozellikleri'\n",
    "]\n",
    "df = df.drop(silinecek_sutunlar, axis=1)\n",
    "\n",
    "silinecek_sutunlar1 = [\n",
    "    'vasıta_id', 'vasıta_label', 'otomobil_id', 'marka_id', 'model_id',\n",
    "    'ek_model_id', 'ek_model_label', 'motor_id'\n",
    "]\n",
    "df = df.drop(silinecek_sutunlar1, axis=1)\n",
    "\n",
    "silinecek_sutunlar2 = ['paket_id', 'model', 'marka', 'seri']\n",
    "df = df.drop(silinecek_sutunlar2, axis=1)\n",
    "df.head(3)"
   ]
  },
  {
   "cell_type": "markdown",
   "id": "7dc24fc6",
   "metadata": {},
   "source": [
    "## 1.3 Eksik Değerleri Ele Alınması"
   ]
  },
  {
   "cell_type": "markdown",
   "id": "2f98b40d",
   "metadata": {},
   "source": [
    "Hangi sütunlarımızda kaçar tane eksik değer var görüntüleyelim."
   ]
  },
  {
   "cell_type": "code",
   "execution_count": 10,
   "id": "c772b919",
   "metadata": {},
   "outputs": [
    {
     "data": {
      "text/plain": [
       "fiyat                  0\n",
       "otomobil_label         0\n",
       "marka_label            0\n",
       "model_label            0\n",
       "motor_label            0\n",
       "paket_label            0\n",
       "il                 53251\n",
       "ilce                 295\n",
       "mahalle           505770\n",
       "km_bilgisi             1\n",
       "model_yili             1\n",
       "yakit_turu             1\n",
       "beygir_gucu          128\n",
       "vites_turu            54\n",
       "dtype: int64"
      ]
     },
     "execution_count": 10,
     "metadata": {},
     "output_type": "execute_result"
    }
   ],
   "source": [
    "df.isnull().sum()"
   ]
  },
  {
   "cell_type": "markdown",
   "id": "bfe72268",
   "metadata": {},
   "source": [
    "beygir_gucu ve vites_turu sütunlarındaki NaN değer bulunan satırları kaldıralım. İl, İlçe, mahalle sütunlarının NaN değerleri ilerleyen kodlarda düzenlenecektir. "
   ]
  },
  {
   "cell_type": "code",
   "execution_count": 11,
   "id": "1919f563",
   "metadata": {},
   "outputs": [
    {
     "data": {
      "text/plain": [
       "fiyat                  0\n",
       "otomobil_label         0\n",
       "marka_label            0\n",
       "model_label            0\n",
       "motor_label            0\n",
       "paket_label            0\n",
       "il                 53240\n",
       "ilce                 295\n",
       "mahalle           505599\n",
       "km_bilgisi             0\n",
       "model_yili             0\n",
       "yakit_turu             0\n",
       "beygir_gucu            0\n",
       "vites_turu             0\n",
       "dtype: int64"
      ]
     },
     "execution_count": 11,
     "metadata": {},
     "output_type": "execute_result"
    }
   ],
   "source": [
    "df = df.dropna(subset=['beygir_gucu'])\n",
    "df = df.dropna(subset=['vites_turu'])\n",
    "df.isnull().sum()"
   ]
  },
  {
   "cell_type": "markdown",
   "id": "4f4f2151",
   "metadata": {},
   "source": [
    "Oluşturduğumuz dataframein veri tiplerini inceleyelim. "
   ]
  },
  {
   "cell_type": "code",
   "execution_count": 12,
   "id": "fd1dffc4",
   "metadata": {},
   "outputs": [
    {
     "data": {
      "text/plain": [
       "fiyat             float64\n",
       "otomobil_label     object\n",
       "marka_label        object\n",
       "model_label        object\n",
       "motor_label        object\n",
       "paket_label        object\n",
       "il                 object\n",
       "ilce               object\n",
       "mahalle            object\n",
       "km_bilgisi         object\n",
       "model_yili         object\n",
       "yakit_turu         object\n",
       "beygir_gucu        object\n",
       "vites_turu         object\n",
       "dtype: object"
      ]
     },
     "execution_count": 12,
     "metadata": {},
     "output_type": "execute_result"
    }
   ],
   "source": [
    "df.dtypes"
   ]
  },
  {
   "cell_type": "markdown",
   "id": "70cbcbd7",
   "metadata": {},
   "source": [
    "Object veri tipinde olan km_bilgisi, model_yili, beygir_gücü sütunlarını numeric değerlere dönüştürelim ve veri tiplerinin en son halini ekrana bastıralım."
   ]
  },
  {
   "cell_type": "code",
   "execution_count": 13,
   "id": "781b80a9",
   "metadata": {},
   "outputs": [
    {
     "data": {
      "text/plain": [
       "fiyat             float64\n",
       "otomobil_label     object\n",
       "marka_label        object\n",
       "model_label        object\n",
       "motor_label        object\n",
       "paket_label        object\n",
       "il                 object\n",
       "ilce               object\n",
       "mahalle            object\n",
       "km_bilgisi          int64\n",
       "model_yili          int64\n",
       "yakit_turu         object\n",
       "beygir_gucu         int64\n",
       "vites_turu         object\n",
       "dtype: object"
      ]
     },
     "execution_count": 13,
     "metadata": {},
     "output_type": "execute_result"
    }
   ],
   "source": [
    "df['km_bilgisi'] = pd.to_numeric(df['km_bilgisi'], errors='raise')\n",
    "df['model_yili'] = pd.to_numeric(df['model_yili'], errors='raise')\n",
    "df['beygir_gucu'] = pd.to_numeric(df['beygir_gucu'], errors='raise')\n",
    "df.dtypes"
   ]
  },
  {
   "cell_type": "markdown",
   "id": "de58c800",
   "metadata": {},
   "source": [
    "Dataframeimizin il,ilçe,mahalle içeren en son halininin yedeğini alalım. Bu csv dosyasını ilerde fiyat tahminin dışında verilerden elde edilebilecek bilgiler için kullanıcaz."
   ]
  },
  {
   "cell_type": "code",
   "execution_count": 14,
   "id": "394a0a3b",
   "metadata": {},
   "outputs": [],
   "source": [
    "df.to_csv('dahil_ilicemahalle.csv', index=False)"
   ]
  },
  {
   "cell_type": "markdown",
   "id": "f03978c8",
   "metadata": {},
   "source": [
    "Dataframeimizden il,ilçe,mahalle sütunlarını kaldıralım çünkü fiyat tahmini yaparken ihtiyacımız olmayacak."
   ]
  },
  {
   "cell_type": "markdown",
   "id": "5bddde96",
   "metadata": {},
   "source": [
    "Ardından kalan diğer NaN değerlerinin olduğu sütunları da silelim."
   ]
  },
  {
   "cell_type": "code",
   "execution_count": 15,
   "id": "307f3a44",
   "metadata": {},
   "outputs": [
    {
     "data": {
      "text/plain": [
       "fiyat             0\n",
       "otomobil_label    0\n",
       "marka_label       0\n",
       "model_label       0\n",
       "motor_label       0\n",
       "paket_label       0\n",
       "km_bilgisi        0\n",
       "model_yili        0\n",
       "yakit_turu        0\n",
       "beygir_gucu       0\n",
       "vites_turu        0\n",
       "dtype: int64"
      ]
     },
     "execution_count": 15,
     "metadata": {},
     "output_type": "execute_result"
    }
   ],
   "source": [
    "silinecek_sutunlar3 = ['il', 'ilce', 'mahalle']\n",
    "df = df.drop(silinecek_sutunlar3, axis=1)\n",
    "df.isnull().sum()"
   ]
  },
  {
   "cell_type": "markdown",
   "id": "a7ff8e1e",
   "metadata": {},
   "source": [
    "## 1.4 Verilerdeki Yanlış Bilgilerin Düzeltilmesi"
   ]
  },
  {
   "cell_type": "markdown",
   "id": "7d9542c5",
   "metadata": {},
   "source": [
    "#### Fiyatta 0 atanların tespit edilmesi.\n",
    "Burada aracın fiyatı 200.000 den az ve model yılı 2010 dan fazla olan araçları tespit edip çıkarıyoruz."
   ]
  },
  {
   "cell_type": "code",
   "execution_count": 16,
   "id": "9f854206",
   "metadata": {},
   "outputs": [],
   "source": [
    "df = df.drop(df[(df['fiyat'] <= 200000) & (df['model_yili'] >= 2010)].index)"
   ]
  },
  {
   "cell_type": "markdown",
   "id": "ced3938d",
   "metadata": {},
   "source": [
    "#### Kilometre bilgisini sahte 0 yazanları tespit edilmesi\n",
    "model yılı 2010 den küçük olan arabanın km'si 10.000km den az olaması çok nadiren gerçekleşir."
   ]
  },
  {
   "cell_type": "code",
   "execution_count": 17,
   "id": "a3cb8611",
   "metadata": {},
   "outputs": [],
   "source": [
    "df = df.drop(df[(df['model_yili'] >= 2010)\n",
    "                & (df['km_bilgisi'] <= 10000)].index)"
   ]
  },
  {
   "cell_type": "markdown",
   "id": "e337fb0f",
   "metadata": {},
   "source": [
    "#### Kafasına göre fiyat yazanların tespit edilmesi\n",
    "fiyat 50.000 tl den az olamaz"
   ]
  },
  {
   "cell_type": "code",
   "execution_count": 18,
   "id": "a3166893",
   "metadata": {},
   "outputs": [],
   "source": [
    "df = df.drop(df[(df['fiyat'] <= 50000)].index)"
   ]
  },
  {
   "cell_type": "markdown",
   "id": "a2db46b6",
   "metadata": {},
   "source": [
    "dataframeimizin en son hali hakkında ekrana çıktı verelim."
   ]
  },
  {
   "cell_type": "code",
   "execution_count": 19,
   "id": "2d5064ab",
   "metadata": {},
   "outputs": [
    {
     "name": "stdout",
     "output_type": "stream",
     "text": [
      "<class 'pandas.core.frame.DataFrame'>\n",
      "Index: 535787 entries, 0 to 556755\n",
      "Data columns (total 11 columns):\n",
      " #   Column          Non-Null Count   Dtype  \n",
      "---  ------          --------------   -----  \n",
      " 0   fiyat           535787 non-null  float64\n",
      " 1   otomobil_label  535787 non-null  object \n",
      " 2   marka_label     535787 non-null  object \n",
      " 3   model_label     535787 non-null  object \n",
      " 4   motor_label     535787 non-null  object \n",
      " 5   paket_label     535787 non-null  object \n",
      " 6   km_bilgisi      535787 non-null  int64  \n",
      " 7   model_yili      535787 non-null  int64  \n",
      " 8   yakit_turu      535787 non-null  object \n",
      " 9   beygir_gucu     535787 non-null  int64  \n",
      " 10  vites_turu      535787 non-null  object \n",
      "dtypes: float64(1), int64(3), object(7)\n",
      "memory usage: 49.1+ MB\n"
     ]
    }
   ],
   "source": [
    "df.info()"
   ]
  },
  {
   "cell_type": "markdown",
   "id": "d4a0f26d",
   "metadata": {},
   "source": [
    "Dataframeimizin yedeğini alalım."
   ]
  },
  {
   "cell_type": "code",
   "execution_count": 20,
   "id": "73b0fca2",
   "metadata": {},
   "outputs": [],
   "source": [
    "df.to_csv('fiyattahminiicin.csv', index=False)"
   ]
  },
  {
   "cell_type": "markdown",
   "id": "e312109d",
   "metadata": {},
   "source": [
    "## 1.5 Verilerin Temizlenmesi ve Biçimlendirilmesi"
   ]
  },
  {
   "cell_type": "markdown",
   "id": "8c19d211",
   "metadata": {},
   "source": [
    "Yedeğini aldığımız dataframeimizi df değişkenine kopyalayalıyoruz."
   ]
  },
  {
   "cell_type": "code",
   "execution_count": 21,
   "id": "49fc2aa8",
   "metadata": {},
   "outputs": [],
   "source": [
    "data = pd.read_csv('fiyattahminiicin.csv')\n",
    "df = data.copy()"
   ]
  },
  {
   "cell_type": "markdown",
   "id": "104f2b39",
   "metadata": {},
   "source": [
    "motor_label sütununda olmaması gereken verilerin bulunduğu sütunları siliyoruz. "
   ]
  },
  {
   "cell_type": "code",
   "execution_count": 22,
   "id": "bcfdb85a",
   "metadata": {},
   "outputs": [],
   "source": [
    "# Eğer 'motor_label' sütununda 'A3 Cabrio' varsa o satırları sil\n",
    "df = df[df['motor_label'] != 'A3 Cabrio']\n",
    "\n",
    "# Eğer 'motor_label' sütununda 'A3 Sportback' varsa o satırları sil\n",
    "df = df[df['motor_label'] != 'A3 Sportback']\n",
    "\n",
    "# Eğer 'motor_label' sütununda 'A5 Sportback' varsa o satırları sil\n",
    "df = df[df['motor_label'] != 'A5 Sportback']"
   ]
  },
  {
   "cell_type": "markdown",
   "id": "02f59834",
   "metadata": {},
   "source": [
    "motor_label sütutunda bulunan değerleri bastırıyoruz."
   ]
  },
  {
   "cell_type": "code",
   "execution_count": 23,
   "id": "a70e3c31",
   "metadata": {},
   "outputs": [
    {
     "data": {
      "text/plain": [
       "motor_label\n",
       "1.5 dCi                 136599\n",
       "1.6                      96335\n",
       "1.6 TDI                  68657\n",
       "1.4                      49784\n",
       "1.4 TDI                  32729\n",
       "1.3 TCe                  22308\n",
       "1.5 Blue DCI             18459\n",
       "1.2 TSI                  18174\n",
       "1.0 TSI                  16447\n",
       "1.2 TDI                  13989\n",
       "35 TFSI                   9640\n",
       "1.4 T                     7854\n",
       "1.4 TFSI                  6701\n",
       "1.0                       4086\n",
       "1.2                       3906\n",
       "1.5 dCi Sport Tourer      3481\n",
       "2.0                       3323\n",
       "1.0 TFSI                  2902\n",
       "1.2 PureTech              2320\n",
       "30 TDI                    2169\n",
       "1.2 TCe                   1719\n",
       "1.6 Coupe                 1681\n",
       "30 TFSI                   1529\n",
       "1.4 TSI                   1425\n",
       "1.5 BlueHDi               1381\n",
       "1.9 DTi                   1294\n",
       "1.9 D                      961\n",
       "1.2 TFSI                   881\n",
       "1.6 dCi                    597\n",
       "1.6 FSI                    544\n",
       "1.9 TDI                    419\n",
       "1.5 TFSI                   373\n",
       "1.6 Cabrio                 311\n",
       "1.9 dCi                    256\n",
       "1.8                        229\n",
       "1.8 T                      223\n",
       "2.0 TDI                    223\n",
       "1.6 CC                     169\n",
       "2.0 Coupe                  168\n",
       "1.8 TFSI                   116\n",
       "2.0 T                      110\n",
       "1.6 BlueHDi                 89\n",
       "2.0 FSI                     73\n",
       "1.0 TCe                     71\n",
       "1.9 SDI                     71\n",
       "1.3                         52\n",
       "1.6 Sport Tourer            43\n",
       "1.5 dCi Grandtour           36\n",
       "1.6 Grandtour               31\n",
       "1.4 T Sport Tourer          26\n",
       "3.2                         18\n",
       "1.9 dCi Grandtour           17\n",
       "2.0 CC                      12\n",
       "1.9 CC                      11\n",
       "2.0 Grandtour                9\n",
       "2.0 TFSI                     9\n",
       "2.0 Cabrio                   5\n",
       "2.0 dCi                      3\n",
       "Name: count, dtype: int64"
      ]
     },
     "execution_count": 23,
     "metadata": {},
     "output_type": "execute_result"
    }
   ],
   "source": [
    "df.motor_label.value_counts()"
   ]
  },
  {
   "cell_type": "markdown",
   "id": "d012a8bf",
   "metadata": {},
   "source": [
    "1.0 motor uzantılarını dikkate almayarak 1.0 yapıyoruz."
   ]
  },
  {
   "cell_type": "code",
   "execution_count": 24,
   "id": "b62ca6cb",
   "metadata": {},
   "outputs": [],
   "source": [
    "df.loc[df.motor_label == \"1.0\", \"motor\"] = \"1.0\"\n",
    "df.loc[df.motor_label == \"1.0 TCe\", \"motor\"] = \"1.0\"\n",
    "df.loc[df.motor_label == \"1.0 TFSI\", \"motor\"] = \"1.0\"\n",
    "df.loc[df.motor_label == \"1.0 TSI\", \"motor\"] = \"1.0\""
   ]
  },
  {
   "cell_type": "markdown",
   "id": "03221093",
   "metadata": {},
   "source": [
    "1.2 motor uzantılarını dikkate almayarak 1.2 yapıyoruz."
   ]
  },
  {
   "cell_type": "code",
   "execution_count": 25,
   "id": "c5f934d4",
   "metadata": {},
   "outputs": [],
   "source": [
    "df.loc[df.motor_label == \"1.2\", \"motor\"] = \"1.2\"\n",
    "df.loc[df.motor_label == \"1.2 PureTech\", \"motor\"] = \"1.2\"\n",
    "df.loc[df.motor_label == \"1.2 TCe\", \"motor\"] = \"1.2\"\n",
    "df.loc[df.motor_label == \"1.2 TDI\", \"motor\"] = \"1.2\"\n",
    "df.loc[df.motor_label == \"1.2 TFSI\", \"motor\"] = \"1.2\"\n",
    "df.loc[df.motor_label == \"1.2 TSI\", \"motor\"] = \"1.2\""
   ]
  },
  {
   "cell_type": "markdown",
   "id": "621979dd",
   "metadata": {},
   "source": [
    "1.3 motor uzantılarını dikkate almayarak 1.3 yapıyoruz."
   ]
  },
  {
   "cell_type": "code",
   "execution_count": 26,
   "id": "a2f9e90d",
   "metadata": {},
   "outputs": [],
   "source": [
    "df.loc[df.motor_label == \"1.3\", \"motor\"] = \"1.3\"\n",
    "df.loc[df.motor_label == \"1.3 TCe\", \"motor\"] = \"1.3\""
   ]
  },
  {
   "cell_type": "markdown",
   "id": "c3706dd9",
   "metadata": {},
   "source": [
    "1.4 motor uzantılarını dikkate almayarak 1.4 yapıyoruz."
   ]
  },
  {
   "cell_type": "code",
   "execution_count": 27,
   "id": "9da81767",
   "metadata": {},
   "outputs": [],
   "source": [
    "df.loc[df.motor_label == \"1.4\", \"motor\"] = \"1.4\"\n",
    "df.loc[df.motor_label == \"1.4 T\", \"motor\"] = \"1.4\"\n",
    "df.loc[df.motor_label == \"1.4 T Sport Tourer\", \"motor\"] = \"1.4\"\n",
    "df.loc[df.motor_label == \"1.4 TDI\", \"motor\"] = \"1.4\"\n",
    "df.loc[df.motor_label == \"1.4 TFSI\", \"motor\"] = \"1.4\"\n",
    "df.loc[df.motor_label == \"1.4 TSI\", \"motor\"] = \"1.4\""
   ]
  },
  {
   "cell_type": "markdown",
   "id": "93ab7eff",
   "metadata": {},
   "source": [
    "1.5 motor uzantılarını dikkate almayarak 1.5 yapıyoruz."
   ]
  },
  {
   "cell_type": "code",
   "execution_count": 28,
   "id": "417b099e",
   "metadata": {},
   "outputs": [],
   "source": [
    "df.loc[df.motor_label == \"1.5 Blue DCI\", \"motor\"] = \"1.5\"\n",
    "df.loc[df.motor_label == \"1.5 BlueHDi\", \"motor\"] = \"1.5\"\n",
    "df.loc[df.motor_label == \"1.5 TFSI\", \"motor\"] = \"1.5\"\n",
    "df.loc[df.motor_label == \"1.5 dCi\", \"motor\"] = \"1.5\"\n",
    "df.loc[df.motor_label == \"1.5 dCi Grandtour\", \"motor\"] = \"1.5\"\n",
    "df.loc[df.motor_label == \"1.5 dCi Sport Tourer\", \"motor\"] = \"1.5\""
   ]
  },
  {
   "cell_type": "markdown",
   "id": "8160e393",
   "metadata": {},
   "source": [
    "1.6 motor uzantılarını dikkate almayarak 1.6 yapıyoruz."
   ]
  },
  {
   "cell_type": "code",
   "execution_count": 29,
   "id": "3b36b63e",
   "metadata": {},
   "outputs": [],
   "source": [
    "df.loc[df.motor_label == \"1.6\", \"motor\"] = \"1.6\"\n",
    "df.loc[df.motor_label == \"1.6 BlueHDi\", \"motor\"] = \"1.6\"\n",
    "df.loc[df.motor_label == \"1.6 CC\", \"motor\"] = \"1.6\"\n",
    "df.loc[df.motor_label == \"1.6 Cabrio\", \"motor\"] = \"1.6\"\n",
    "df.loc[df.motor_label == \"1.6 Coupe\", \"motor\"] = \"1.6\"\n",
    "df.loc[df.motor_label == \"1.6 FSI\", \"motor\"] = \"1.6\"\n",
    "df.loc[df.motor_label == \"1.6 Grandtour\", \"motor\"] = \"1.6\"\n",
    "df.loc[df.motor_label == \"1.6 Sport Tourer\", \"motor\"] = \"1.6\"\n",
    "df.loc[df.motor_label == \"1.6 TDI\", \"motor\"] = \"1.6\"\n",
    "df.loc[df.motor_label == \"1.6 dCi\", \"motor\"] = \"1.6\""
   ]
  },
  {
   "cell_type": "markdown",
   "id": "1eadaaae",
   "metadata": {},
   "source": [
    "1.8 motor uzantılarını dikkate almayarak 1.8 yapıyoruz."
   ]
  },
  {
   "cell_type": "code",
   "execution_count": 30,
   "id": "72dea64a",
   "metadata": {},
   "outputs": [],
   "source": [
    "df.loc[df.motor_label == \"1.8\", \"motor\"] = \"1.8\"\n",
    "df.loc[df.motor_label == \"1.8 T\", \"motor\"] = \"1.8\"\n",
    "df.loc[df.motor_label == \"1.8 TFSI\", \"motor\"] = \"1.8\""
   ]
  },
  {
   "cell_type": "markdown",
   "id": "97caf601",
   "metadata": {},
   "source": [
    "1.9 motor uzantılarını dikkate almayarak 1.9 yapıyoruz."
   ]
  },
  {
   "cell_type": "code",
   "execution_count": 31,
   "id": "33d4cebd",
   "metadata": {},
   "outputs": [],
   "source": [
    "df.loc[df.motor_label == \"1.9 CC\", \"motor\"] = \"1.9\"\n",
    "df.loc[df.motor_label == \"1.9 D\", \"motor\"] = \"1.9\"\n",
    "df.loc[df.motor_label == \"1.9 DTi\", \"motor\"] = \"1.9\"\n",
    "df.loc[df.motor_label == \"1.9 SDI\", \"motor\"] = \"1.9\"\n",
    "df.loc[df.motor_label == \"1.9 TDI\", \"motor\"] = \"1.9\"\n",
    "df.loc[df.motor_label == \"1.9 dCi\", \"motor\"] = \"1.9\"\n",
    "df.loc[df.motor_label == \"1.9 dCi Grandtour\", \"motor\"] = \"1.9\""
   ]
  },
  {
   "cell_type": "markdown",
   "id": "1a604a47",
   "metadata": {},
   "source": [
    "2.0 motor uzantılarını dikkate almayarak 2.0 yapıyoruz."
   ]
  },
  {
   "cell_type": "code",
   "execution_count": 32,
   "id": "395110f4",
   "metadata": {},
   "outputs": [],
   "source": [
    "df.loc[df.motor_label == \"2.0\", \"motor\"] = \"2.0\"\n",
    "df.loc[df.motor_label == \"2.0 CC\", \"motor\"] = \"2.0\"\n",
    "df.loc[df.motor_label == \"2.0 Cabrio\", \"motor\"] = \"2.0\"\n",
    "df.loc[df.motor_label == \"2.0 Coupe\", \"motor\"] = \"2.0\"\n",
    "df.loc[df.motor_label == \"2.0 FSI\", \"motor\"] = \"2.0\"\n",
    "df.loc[df.motor_label == \"2.0 Grandtour\", \"motor\"] = \"2.0\"\n",
    "df.loc[df.motor_label == \"2.0 T\", \"motor\"] = \"2.0\"\n",
    "df.loc[df.motor_label == \"2.0 TDI\", \"motor\"] = \"2.0\"\n",
    "df.loc[df.motor_label == \"2.0 TFSI\", \"motor\"] = \"2.0\"\n",
    "df.loc[df.motor_label == \"2.0 dCi\", \"motor\"] = \"2.0\""
   ]
  },
  {
   "cell_type": "markdown",
   "id": "26d56150",
   "metadata": {},
   "source": [
    "3.0 motor uzantılarını dikkate almayarak 3.0 yapıyoruz."
   ]
  },
  {
   "cell_type": "code",
   "execution_count": 33,
   "id": "2127f069",
   "metadata": {},
   "outputs": [],
   "source": [
    "df.loc[df.motor_label == \"30 TDI\", \"motor\"] = \"3.0\"\n",
    "df.loc[df.motor_label == \"30 TFSI\", \"motor\"] = \"3.0\""
   ]
  },
  {
   "cell_type": "markdown",
   "id": "000698ab",
   "metadata": {},
   "source": [
    "Son olarak 3.2 ve 3.5 motor atıyoruz."
   ]
  },
  {
   "cell_type": "code",
   "execution_count": 34,
   "id": "6cb1edcf",
   "metadata": {},
   "outputs": [],
   "source": [
    "df.loc[df.motor_label == \"3.2\", \"motor\"] = \"3.2\"\n",
    "df.loc[df.motor_label == \"35 TFSI\", \"motor\"] = \"3.5\""
   ]
  },
  {
   "cell_type": "markdown",
   "id": "8d1015d2",
   "metadata": {},
   "source": [
    "motor sütununda yer alan değişken sayılarını bastırıyoruz."
   ]
  },
  {
   "cell_type": "code",
   "execution_count": 35,
   "id": "138c29dc",
   "metadata": {},
   "outputs": [
    {
     "data": {
      "text/plain": [
       "motor\n",
       "1.6    168457\n",
       "1.5    160329\n",
       "1.4     98519\n",
       "1.2     40989\n",
       "1.0     23506\n",
       "1.3     22360\n",
       "3.5      9640\n",
       "2.0      3935\n",
       "3.0      3698\n",
       "1.9      3029\n",
       "1.8       568\n",
       "3.2        18\n",
       "Name: count, dtype: int64"
      ]
     },
     "execution_count": 35,
     "metadata": {},
     "output_type": "execute_result"
    }
   ],
   "source": [
    "df.motor.value_counts()"
   ]
  },
  {
   "cell_type": "markdown",
   "id": "e8d21c22",
   "metadata": {},
   "source": [
    "motor sütununun veri tipini numerik yapıyoruz. Ardından motor_label sütunu ile işimiz kalmadığı için df'den kaldırıyoruz."
   ]
  },
  {
   "cell_type": "code",
   "execution_count": 36,
   "id": "cd2938ab",
   "metadata": {},
   "outputs": [
    {
     "name": "stdout",
     "output_type": "stream",
     "text": [
      "<class 'pandas.core.frame.DataFrame'>\n",
      "Index: 535048 entries, 0 to 535786\n",
      "Data columns (total 11 columns):\n",
      " #   Column          Non-Null Count   Dtype  \n",
      "---  ------          --------------   -----  \n",
      " 0   fiyat           535048 non-null  float64\n",
      " 1   otomobil_label  535048 non-null  object \n",
      " 2   marka_label     535048 non-null  object \n",
      " 3   model_label     535048 non-null  object \n",
      " 4   paket_label     535048 non-null  object \n",
      " 5   km_bilgisi      535048 non-null  int64  \n",
      " 6   model_yili      535048 non-null  int64  \n",
      " 7   yakit_turu      535048 non-null  object \n",
      " 8   beygir_gucu     535048 non-null  int64  \n",
      " 9   vites_turu      535048 non-null  object \n",
      " 10  motor           535048 non-null  float64\n",
      "dtypes: float64(2), int64(3), object(6)\n",
      "memory usage: 49.0+ MB\n"
     ]
    }
   ],
   "source": [
    "df['motor'] = pd.to_numeric(df['motor'], errors='raise')\n",
    "df.drop(columns='motor_label', axis=1, inplace=True)\n",
    "df.info()"
   ]
  },
  {
   "cell_type": "markdown",
   "id": "d99ce7e8",
   "metadata": {},
   "source": [
    "Araç fiyat tahmini için kullanacağımız verisetinin yedeğini csv dosyası olarak alıyoruz."
   ]
  },
  {
   "cell_type": "code",
   "execution_count": 37,
   "id": "0fc554c3",
   "metadata": {},
   "outputs": [],
   "source": [
    "df.to_csv('fiyattahmin.csv', index=False)"
   ]
  },
  {
   "cell_type": "markdown",
   "id": "5b5b2d97",
   "metadata": {},
   "source": [
    "## 1.6 Verilerdeki Aykırı Değerlerin Ele Alınması"
   ]
  },
  {
   "cell_type": "markdown",
   "id": "ce8cce92",
   "metadata": {},
   "source": [
    "Yedeğini aldığımız fiyattahmin.csv dosyanını df değişkenine aktarıyoruz. "
   ]
  },
  {
   "cell_type": "code",
   "execution_count": 38,
   "id": "e0663c00",
   "metadata": {},
   "outputs": [],
   "source": [
    "data = pd.read_csv('fiyattahmin.csv')\n",
    "df = data.copy()"
   ]
  },
  {
   "cell_type": "markdown",
   "id": "a4b71169",
   "metadata": {},
   "source": [
    "Veri setimizdeki km_bilgisi sütunundaki aykırı değerleri tespit etmek için grafiğini çizdiriyoruz."
   ]
  },
  {
   "cell_type": "code",
   "execution_count": 39,
   "id": "555735cb",
   "metadata": {},
   "outputs": [
    {
     "data": {
      "image/png": "[encoded data removed]",
      "text/plain": [
       "<Figure size 640x480 with 1 Axes>"
      ]
     },
     "metadata": {},
     "output_type": "display_data"
    }
   ],
   "source": [
    "sns.boxplot(data=df[\"km_bilgisi\"])\n",
    "plt.title(\"km_bilgisi aykırı değer tespiti\")\n",
    "plt.show()"
   ]
  },
  {
   "cell_type": "markdown",
   "id": "3c0f5649",
   "metadata": {},
   "source": [
    "km_bilgisi sütunundaki aykırı değerleri kaldırıyoruz."
   ]
  },
  {
   "cell_type": "code",
   "execution_count": 40,
   "id": "b3904a26",
   "metadata": {},
   "outputs": [],
   "source": [
    "Q1 = df[\"km_bilgisi\"].quantile(0.25)\n",
    "Q3 = df[\"km_bilgisi\"].quantile(0.75)\n",
    "IQR = Q3 - Q1\n",
    "\n",
    "altsınır = Q1 - 1.5 * IQR\n",
    "ustsınır = Q3 + 1.5 * IQR\n",
    "\n",
    "aykırımin = df[df[\"km_bilgisi\"] < altsınır][\"km_bilgisi\"]\n",
    "aykırımax = df[df[\"km_bilgisi\"] > ustsınır][\"km_bilgisi\"]\n",
    "\n",
    "aykırı = pd.concat([aykırımin, aykırımax], axis=0).index\n",
    "indeksler = []\n",
    "for i in aykırı:\n",
    "    indeksler.append(i)\n",
    "\n",
    "veri2 = df.drop(df.index[indeksler])"
   ]
  },
  {
   "cell_type": "markdown",
   "id": "035e74dd",
   "metadata": {},
   "source": [
    "km_bilgisi sütunundan aykırı değerleri kaldırdıktan sonraki grafiğini çizdiriyoruz."
   ]
  },
  {
   "cell_type": "code",
   "execution_count": 41,
   "id": "e6abd1ae",
   "metadata": {},
   "outputs": [
    {
     "data": {
      "image/png": "[encoded data removed]",
      "text/plain": [
       "<Figure size 640x480 with 1 Axes>"
      ]
     },
     "metadata": {},
     "output_type": "display_data"
    }
   ],
   "source": [
    "sns.boxplot(data=veri2[\"km_bilgisi\"])\n",
    "plt.title(\"km_bilgisi aykırı değerler kaldırıldıktan sonra\")\n",
    "plt.show()"
   ]
  },
  {
   "cell_type": "markdown",
   "id": "39002162",
   "metadata": {},
   "source": [
    "Veri setimizdeki model_yili sütunundaki aykırı değerleri tespit etmek için grafiğini çizdiriyoruz."
   ]
  },
  {
   "cell_type": "code",
   "execution_count": 42,
   "id": "b7034245",
   "metadata": {},
   "outputs": [
    {
     "data": {
      "image/png": "[encoded data removed]",
      "text/plain": [
       "<Figure size 640x480 with 1 Axes>"
      ]
     },
     "metadata": {},
     "output_type": "display_data"
    }
   ],
   "source": [
    "sns.boxplot(data=df[\"model_yili\"])\n",
    "plt.title(\"model_yili aykırı değer tespiti\")\n",
    "plt.show()"
   ]
  },
  {
   "cell_type": "markdown",
   "id": "9000505b",
   "metadata": {},
   "source": [
    "model_yili sütunundaki aykırı değerleri kaldırıyoruz."
   ]
  },
  {
   "cell_type": "code",
   "execution_count": 43,
   "id": "e63d8031",
   "metadata": {},
   "outputs": [],
   "source": [
    "Q1 = df[\"model_yili\"].quantile(0.25)\n",
    "Q3 = df[\"model_yili\"].quantile(0.75)\n",
    "IQR = Q3 - Q1\n",
    "\n",
    "altsınır = Q1 - 1.5 * IQR\n",
    "ustsınır = Q3 + 1.5 * IQR\n",
    "\n",
    "aykırımin = df[df[\"model_yili\"] < altsınır][\"model_yili\"]\n",
    "aykırımax = df[df[\"model_yili\"] > ustsınır][\"model_yili\"]\n",
    "\n",
    "aykırı = pd.concat([aykırımin, aykırımax], axis=0).index\n",
    "indeksler = []\n",
    "for i in aykırı:\n",
    "    indeksler.append(i)\n",
    "\n",
    "veri2 = df.drop(df.index[indeksler])"
   ]
  },
  {
   "cell_type": "markdown",
   "id": "d5c20b76",
   "metadata": {},
   "source": [
    "model_yili sütunundan aykırı değerleri kaldırdıktan sonraki grafiğini çizdiriyoruz."
   ]
  },
  {
   "cell_type": "code",
   "execution_count": 44,
   "id": "4b45adea",
   "metadata": {},
   "outputs": [
    {
     "data": {
      "image/png": "[encoded data removed]",
      "text/plain": [
       "<Figure size 640x480 with 1 Axes>"
      ]
     },
     "metadata": {},
     "output_type": "display_data"
    }
   ],
   "source": [
    "sns.boxplot(data=veri2[\"model_yili\"])\n",
    "plt.title(\"model_yili aykırı değerler kaldırıldıktan sonra\")\n",
    "plt.show()"
   ]
  },
  {
   "cell_type": "markdown",
   "id": "db1e7f50",
   "metadata": {},
   "source": [
    "Veri setimizdeki beygir_gücü sütunundaki aykırı değerleri tespit etmek için grafiğini çizdiriyoruz."
   ]
  },
  {
   "cell_type": "code",
   "execution_count": 45,
   "id": "9855fd2a",
   "metadata": {},
   "outputs": [
    {
     "data": {
      "image/png": "[encoded data removed]",
      "text/plain": [
       "<Figure size 640x480 with 1 Axes>"
      ]
     },
     "metadata": {},
     "output_type": "display_data"
    }
   ],
   "source": [
    "sns.boxplot(data=df[\"beygir_gucu\"])\n",
    "plt.title(\"beygir_gucu aykırı değer tespiti\")\n",
    "plt.show()"
   ]
  },
  {
   "cell_type": "markdown",
   "id": "76697a09",
   "metadata": {},
   "source": [
    "beygir_gucu sütunundaki aykırı değerleri kaldırıyoruz."
   ]
  },
  {
   "cell_type": "code",
   "execution_count": 46,
   "id": "79b0bc27",
   "metadata": {},
   "outputs": [],
   "source": [
    "Q1 = df[\"beygir_gucu\"].quantile(0.25)\n",
    "Q3 = df[\"beygir_gucu\"].quantile(0.75)\n",
    "IQR = Q3 - Q1\n",
    "\n",
    "altsınır = Q1 - 1.5 * IQR\n",
    "ustsınır = Q3 + 1.5 * IQR\n",
    "\n",
    "aykırımin = df[df[\"beygir_gucu\"] < altsınır][\"beygir_gucu\"]\n",
    "aykırımax = df[df[\"beygir_gucu\"] > ustsınır][\"beygir_gucu\"]\n",
    "\n",
    "aykırı = pd.concat([aykırımin, aykırımax], axis=0).index\n",
    "indeksler = []\n",
    "for i in aykırı:\n",
    "    indeksler.append(i)\n",
    "\n",
    "veri2 = df.drop(df.index[indeksler])"
   ]
  },
  {
   "cell_type": "markdown",
   "id": "ee37b13b",
   "metadata": {},
   "source": [
    "beygir_gucu sütunundan aykırı değerleri kaldırdıktan sonraki grafiğini çizdiriyoruz."
   ]
  },
  {
   "cell_type": "code",
   "execution_count": 47,
   "id": "3d0f0659",
   "metadata": {},
   "outputs": [
    {
     "data": {
      "image/png": "[encoded data removed]",
      "text/plain": [
       "<Figure size 640x480 with 1 Axes>"
      ]
     },
     "metadata": {},
     "output_type": "display_data"
    }
   ],
   "source": [
    "sns.boxplot(data=veri2[\"beygir_gucu\"])\n",
    "plt.title(\"beygir_gucu aykırı değerler kaldırıldıktan sonra\")\n",
    "plt.show()"
   ]
  },
  {
   "cell_type": "markdown",
   "id": "fe9dbf82",
   "metadata": {},
   "source": [
    "Veri setimizdeki motor sütunundaki aykırı değerleri tespit etmek için grafiğini çizdiriyoruz."
   ]
  },
  {
   "cell_type": "code",
   "execution_count": 48,
   "id": "d27f4fb3",
   "metadata": {},
   "outputs": [
    {
     "data": {
      "image/png": "[encoded data removed]",
      "text/plain": [
       "<Figure size 640x480 with 1 Axes>"
      ]
     },
     "metadata": {},
     "output_type": "display_data"
    }
   ],
   "source": [
    "sns.boxplot(data=df[\"motor\"])\n",
    "plt.title(\"motor aykırı değer tespiti\")\n",
    "plt.show()"
   ]
  },
  {
   "cell_type": "markdown",
   "id": "a91b40b3",
   "metadata": {},
   "source": [
    "motor sütunundaki aykırı değerleri kaldırıyoruz."
   ]
  },
  {
   "cell_type": "code",
   "execution_count": 49,
   "id": "70356b14",
   "metadata": {},
   "outputs": [],
   "source": [
    "Q1 = df[\"motor\"].quantile(0.25)\n",
    "Q3 = df[\"motor\"].quantile(0.75)\n",
    "IQR = Q3 - Q1\n",
    "\n",
    "altsınır = Q1 - 1.5 * IQR\n",
    "ustsınır = Q3 + 1.5 * IQR\n",
    "\n",
    "aykırımin = df[df[\"motor\"] < altsınır][\"motor\"]\n",
    "aykırımax = df[df[\"motor\"] > ustsınır][\"motor\"]\n",
    "\n",
    "aykırı = pd.concat([aykırımin, aykırımax], axis=0).index\n",
    "indeksler = []\n",
    "for i in aykırı:\n",
    "    indeksler.append(i)\n",
    "\n",
    "veri2 = df.drop(df.index[indeksler])"
   ]
  },
  {
   "cell_type": "markdown",
   "id": "7d0d3add",
   "metadata": {},
   "source": [
    "motor sütunundan aykırı değerleri kaldırdıktan sonraki grafiğini çizdiriyoruz."
   ]
  },
  {
   "cell_type": "code",
   "execution_count": 50,
   "id": "e464a940",
   "metadata": {},
   "outputs": [
    {
     "data": {
      "image/png": "[encoded data removed]",
      "text/plain": [
       "<Figure size 640x480 with 1 Axes>"
      ]
     },
     "metadata": {},
     "output_type": "display_data"
    }
   ],
   "source": [
    "sns.boxplot(data=veri2[\"motor\"])\n",
    "plt.title(\"motor aykırı değerler kaldırıldıktan sonra\")\n",
    "plt.show()"
   ]
  },
  {
   "cell_type": "markdown",
   "id": "fecdfbef",
   "metadata": {},
   "source": [
    "Veri setimizdeki fiyat sütunundaki aykırı değerleri tespit etmek için grafiğini çizdiriyoruz."
   ]
  },
  {
   "cell_type": "code",
   "execution_count": 51,
   "id": "c035ff7d",
   "metadata": {},
   "outputs": [
    {
     "data": {
      "image/png": "[encoded data removed]",
      "text/plain": [
       "<Figure size 640x480 with 1 Axes>"
      ]
     },
     "metadata": {},
     "output_type": "display_data"
    }
   ],
   "source": [
    "sns.boxplot(data=df[\"fiyat\"])\n",
    "plt.title(\"fiyat aykırı değer tespiti\")\n",
    "plt.show()"
   ]
  },
  {
   "cell_type": "markdown",
   "id": "99154797",
   "metadata": {},
   "source": [
    "fiyat sütunundaki aykırı değerleri kaldırıyoruz."
   ]
  },
  {
   "cell_type": "code",
   "execution_count": 52,
   "id": "ecf5dfcb",
   "metadata": {},
   "outputs": [],
   "source": [
    "Q1 = df[\"fiyat\"].quantile(0.25)\n",
    "Q3 = df[\"fiyat\"].quantile(0.75)\n",
    "IQR = Q3 - Q1\n",
    "\n",
    "altsınır = Q1 - 1.5 * IQR\n",
    "ustsınır = Q3 + 1.5 * IQR\n",
    "\n",
    "aykırımin = df[df[\"fiyat\"] < altsınır][\"fiyat\"]\n",
    "aykırımax = df[df[\"fiyat\"] > ustsınır][\"fiyat\"]\n",
    "\n",
    "aykırı = pd.concat([aykırımin, aykırımax], axis=0).index\n",
    "indeksler = []\n",
    "for i in aykırı:\n",
    "    indeksler.append(i)\n",
    "\n",
    "veri2 = df.drop(df.index[indeksler])"
   ]
  },
  {
   "cell_type": "markdown",
   "id": "3953e9ca",
   "metadata": {},
   "source": [
    "fiyat sütunundan aykırı değerleri kaldırdıktan sonraki grafiğini çizdiriyoruz."
   ]
  },
  {
   "cell_type": "code",
   "execution_count": 53,
   "id": "58b362a5",
   "metadata": {},
   "outputs": [
    {
     "data": {
      "image/png": "[encoded data removed]",
      "text/plain": [
       "<Figure size 640x480 with 1 Axes>"
      ]
     },
     "metadata": {},
     "output_type": "display_data"
    }
   ],
   "source": [
    "sns.boxplot(data=veri2[\"fiyat\"])\n",
    "plt.title(\"fiyat aykırı değerler kaldırıldıktan sonra\")\n",
    "plt.show()"
   ]
  },
  {
   "cell_type": "markdown",
   "id": "6be1aa5b",
   "metadata": {},
   "source": [
    "Aykırı değerleri çıkardıktan sonra verisetimizde 535048 adet veriden 529160 adet veri kaldı."
   ]
  },
  {
   "cell_type": "code",
   "execution_count": 54,
   "id": "24b47891",
   "metadata": {},
   "outputs": [
    {
     "name": "stdout",
     "output_type": "stream",
     "text": [
      "<class 'pandas.core.frame.DataFrame'>\n",
      "Index: 529160 entries, 0 to 535047\n",
      "Data columns (total 11 columns):\n",
      " #   Column          Non-Null Count   Dtype  \n",
      "---  ------          --------------   -----  \n",
      " 0   fiyat           529160 non-null  float64\n",
      " 1   otomobil_label  529160 non-null  object \n",
      " 2   marka_label     529160 non-null  object \n",
      " 3   model_label     529160 non-null  object \n",
      " 4   paket_label     529160 non-null  object \n",
      " 5   km_bilgisi      529160 non-null  int64  \n",
      " 6   model_yili      529160 non-null  int64  \n",
      " 7   yakit_turu      529160 non-null  object \n",
      " 8   beygir_gucu     529160 non-null  int64  \n",
      " 9   vites_turu      529160 non-null  object \n",
      " 10  motor           529160 non-null  float64\n",
      "dtypes: float64(2), int64(3), object(6)\n",
      "memory usage: 64.6+ MB\n"
     ]
    }
   ],
   "source": [
    "df = veri2.copy()\n",
    "df.info()"
   ]
  },
  {
   "cell_type": "markdown",
   "id": "9c037b9f",
   "metadata": {},
   "source": [
    "otomobil_label sütunumuzdaki değerlerin sayısını görelim."
   ]
  },
  {
   "cell_type": "code",
   "execution_count": 55,
   "id": "9223fe55",
   "metadata": {},
   "outputs": [
    {
     "data": {
      "text/plain": [
       "otomobil_label\n",
       "Otomobil               524600\n",
       "Arazi, SUV & Pickup      4560\n",
       "Name: count, dtype: int64"
      ]
     },
     "execution_count": 55,
     "metadata": {},
     "output_type": "execute_result"
    }
   ],
   "source": [
    "df.otomobil_label.value_counts()"
   ]
  },
  {
   "cell_type": "markdown",
   "id": "75befceb",
   "metadata": {},
   "source": [
    "otomobil_label sütunumuzdaki değerlerin sayısınının bar grafiğini çizdirelim."
   ]
  },
  {
   "cell_type": "code",
   "execution_count": 56,
   "id": "4f8d1e73",
   "metadata": {},
   "outputs": [
    {
     "data": {
      "text/plain": [
       "<Axes: xlabel='otomobil_label'>"
      ]
     },
     "execution_count": 56,
     "metadata": {},
     "output_type": "execute_result"
    },
    {
     "data": {
      "image/png": "[encoded data removed]",
      "text/plain": [
       "<Figure size 640x480 with 1 Axes>"
      ]
     },
     "metadata": {},
     "output_type": "display_data"
    }
   ],
   "source": [
    "df.otomobil_label.value_counts().plot.bar()"
   ]
  },
  {
   "cell_type": "markdown",
   "id": "960d95a0",
   "metadata": {},
   "source": [
    "marka_label sütunumuzdaki değerlerin sayısını görelim."
   ]
  },
  {
   "cell_type": "code",
   "execution_count": 57,
   "id": "8a3e150c",
   "metadata": {},
   "outputs": [
    {
     "data": {
      "text/plain": [
       "marka_label\n",
       "Renault       261795\n",
       "Volkswagen    178577\n",
       "Audi           76620\n",
       "Opel            7608\n",
       "Citroën         3786\n",
       "Isuzu            774\n",
       "Name: count, dtype: int64"
      ]
     },
     "execution_count": 57,
     "metadata": {},
     "output_type": "execute_result"
    }
   ],
   "source": [
    "df.marka_label.value_counts()"
   ]
  },
  {
   "cell_type": "markdown",
   "id": "0857ad8e",
   "metadata": {},
   "source": [
    "marka_label sütunumuzdaki değerlerin sayısınının bar grafiğini çizdirelim."
   ]
  },
  {
   "cell_type": "code",
   "execution_count": 58,
   "id": "ff9c07a0",
   "metadata": {},
   "outputs": [
    {
     "data": {
      "text/plain": [
       "<Axes: xlabel='marka_label'>"
      ]
     },
     "execution_count": 58,
     "metadata": {},
     "output_type": "execute_result"
    },
    {
     "data": {
      "image/png": "[encoded data removed]",
      "text/plain": [
       "<Figure size 640x480 with 1 Axes>"
      ]
     },
     "metadata": {},
     "output_type": "display_data"
    }
   ],
   "source": [
    "df.marka_label.value_counts().plot.bar()"
   ]
  },
  {
   "cell_type": "markdown",
   "id": "c3924bb7",
   "metadata": {},
   "source": [
    "model_label sütunumuzdaki değerlerin sayısını görelim."
   ]
  },
  {
   "cell_type": "code",
   "execution_count": 59,
   "id": "dfd55238",
   "metadata": {},
   "outputs": [
    {
     "data": {
      "text/plain": [
       "model_label\n",
       "Megane         261795\n",
       "Polo           178577\n",
       "A3              76620\n",
       "Astra            7608\n",
       "C3 AirCross      3786\n",
       "D-Max             774\n",
       "Name: count, dtype: int64"
      ]
     },
     "execution_count": 59,
     "metadata": {},
     "output_type": "execute_result"
    }
   ],
   "source": [
    "df.model_label.value_counts()"
   ]
  },
  {
   "cell_type": "markdown",
   "id": "e59556ba",
   "metadata": {},
   "source": [
    "mdoel_label sütunumuzdaki değerlerin sayısınının bar grafiğini çizdirelim."
   ]
  },
  {
   "cell_type": "code",
   "execution_count": 60,
   "id": "7593e5cf",
   "metadata": {},
   "outputs": [
    {
     "data": {
      "text/plain": [
       "<Axes: xlabel='model_label'>"
      ]
     },
     "execution_count": 60,
     "metadata": {},
     "output_type": "execute_result"
    },
    {
     "data": {
      "image/png": "[encoded data removed]",
      "text/plain": [
       "<Figure size 640x480 with 1 Axes>"
      ]
     },
     "metadata": {},
     "output_type": "display_data"
    }
   ],
   "source": [
    "df.model_label.value_counts().plot.bar()"
   ]
  },
  {
   "cell_type": "markdown",
   "id": "b17e1b5a",
   "metadata": {},
   "source": [
    "paket_label sütunumuzdaki değerlerin sayısını görelim."
   ]
  },
  {
   "cell_type": "code",
   "execution_count": 61,
   "id": "5b0816bd",
   "metadata": {},
   "outputs": [
    {
     "data": {
      "text/plain": [
       "paket_label\n",
       "Comfortline           89520\n",
       "Touch                 55530\n",
       "Joy                   39103\n",
       "Trendline             38441\n",
       "Dynamique             34913\n",
       "                      ...  \n",
       "Quattro Ambiente          2\n",
       "Quattro Ambition          1\n",
       "Quattro Attraction        1\n",
       "Sport                     1\n",
       "1.9 D                     1\n",
       "Name: count, Length: 127, dtype: int64"
      ]
     },
     "execution_count": 61,
     "metadata": {},
     "output_type": "execute_result"
    }
   ],
   "source": [
    "df.paket_label.value_counts()"
   ]
  },
  {
   "cell_type": "markdown",
   "id": "ca6bbd57",
   "metadata": {},
   "source": [
    "paket_label sütunumuzdaki değerlerin sayısınının bar grafiğini çizdiriyoruz fakat çok fazla değişken olduğundan dolayı rahat yorumlayamıyoruz."
   ]
  },
  {
   "cell_type": "code",
   "execution_count": 62,
   "id": "58296a1d",
   "metadata": {},
   "outputs": [
    {
     "data": {
      "text/plain": [
       "<Axes: xlabel='paket_label'>"
      ]
     },
     "execution_count": 62,
     "metadata": {},
     "output_type": "execute_result"
    },
    {
     "data": {
      "image/png": "[encoded data removed]",
      "text/plain": [
       "<Figure size 640x480 with 1 Axes>"
      ]
     },
     "metadata": {},
     "output_type": "display_data"
    }
   ],
   "source": [
    "df.paket_label.value_counts().plot.bar()"
   ]
  },
  {
   "cell_type": "markdown",
   "id": "c4202c2f",
   "metadata": {},
   "source": [
    "paket_label sütunumuzdaki değerlerin sayısının 1000den fazla olanları çizdiriyoruz."
   ]
  },
  {
   "cell_type": "code",
   "execution_count": 63,
   "id": "0b4e6b7d",
   "metadata": {},
   "outputs": [
    {
     "data": {
      "image/png": "[encoded data removed]",
      "text/plain": [
       "<Figure size 640x480 with 1 Axes>"
      ]
     },
     "metadata": {},
     "output_type": "display_data"
    }
   ],
   "source": [
    "# paket_label sütunundaki değerleri sayarak adetleri alıyoruz\n",
    "value_counts = df['paket_label'].value_counts()\n",
    "\n",
    "# 1000'den fazla olanları filtreleyip çubuk grafik olarak gösteriyoruz\n",
    "value_counts[value_counts > 1000].plot.bar()\n",
    "plt.show()"
   ]
  },
  {
   "cell_type": "markdown",
   "id": "5478fcac",
   "metadata": {},
   "source": [
    "yakit_türü sütunumuzdaki değerlerin sayısını görelim."
   ]
  },
  {
   "cell_type": "code",
   "execution_count": 64,
   "id": "6fcef640",
   "metadata": {},
   "outputs": [
    {
     "data": {
      "text/plain": [
       "yakit_turu\n",
       "Dizel           280446\n",
       "Benzin          130977\n",
       "Benzin & LPG    117510\n",
       "Hybrid             226\n",
       "Elektrik             1\n",
       "Name: count, dtype: int64"
      ]
     },
     "execution_count": 64,
     "metadata": {},
     "output_type": "execute_result"
    }
   ],
   "source": [
    "df.yakit_turu.value_counts()"
   ]
  },
  {
   "cell_type": "markdown",
   "id": "235f2c69",
   "metadata": {},
   "source": [
    "yakit_turu sütunumuzdaki değerlerin sayısınının bar grafiğini çizdirelim."
   ]
  },
  {
   "cell_type": "code",
   "execution_count": 65,
   "id": "675e5590",
   "metadata": {},
   "outputs": [
    {
     "data": {
      "text/plain": [
       "<Axes: xlabel='yakit_turu'>"
      ]
     },
     "execution_count": 65,
     "metadata": {},
     "output_type": "execute_result"
    },
    {
     "data": {
      "image/png": "[encoded data removed]",
      "text/plain": [
       "<Figure size 640x480 with 1 Axes>"
      ]
     },
     "metadata": {},
     "output_type": "display_data"
    }
   ],
   "source": [
    "df.yakit_turu.value_counts().plot.bar()"
   ]
  },
  {
   "cell_type": "markdown",
   "id": "f64ea098",
   "metadata": {},
   "source": [
    "vites_turu sütunumuzdaki değerlerin sayısını görelim."
   ]
  },
  {
   "cell_type": "code",
   "execution_count": 66,
   "id": "0211baa6",
   "metadata": {},
   "outputs": [
    {
     "data": {
      "text/plain": [
       "vites_turu\n",
       "Manuel           252449\n",
       "Otomatik         194057\n",
       "Yarı Otomatik     82654\n",
       "Name: count, dtype: int64"
      ]
     },
     "execution_count": 66,
     "metadata": {},
     "output_type": "execute_result"
    }
   ],
   "source": [
    "df.vites_turu.value_counts()"
   ]
  },
  {
   "cell_type": "markdown",
   "id": "a0bb0dd4",
   "metadata": {},
   "source": [
    "vites_turu sütunumuzdaki değerlerin sayısınının bar grafiğini çizdirelim."
   ]
  },
  {
   "cell_type": "code",
   "execution_count": 67,
   "id": "b9f99417",
   "metadata": {},
   "outputs": [
    {
     "data": {
      "text/plain": [
       "<Axes: xlabel='vites_turu'>"
      ]
     },
     "execution_count": 67,
     "metadata": {},
     "output_type": "execute_result"
    },
    {
     "data": {
      "image/png": "[encoded data removed]",
      "text/plain": [
       "<Figure size 640x480 with 1 Axes>"
      ]
     },
     "metadata": {},
     "output_type": "display_data"
    }
   ],
   "source": [
    "df.vites_turu.value_counts().plot.bar()"
   ]
  },
  {
   "cell_type": "markdown",
   "id": "17720a5c",
   "metadata": {},
   "source": [
    "# 2. Öznitelik Seçimi ve Mühendisliği"
   ]
  },
  {
   "cell_type": "markdown",
   "id": "af789458",
   "metadata": {},
   "source": [
    "Potansiyel öznitelik dönüşümü olarak aracının yaşının model_yili' ndan hesaplayalım ve model_yili sütununu veri setimizden kaldıralım. Logaritma alırken sonsuz değer problemine düşmemek içim km'lere 1 ekleyelim(0 km araçlar için)"
   ]
  },
  {
   "cell_type": "markdown",
   "id": "99a97085",
   "metadata": {},
   "source": [
    "## 2.1 Potansiyel öznitelik dönüşümlerini keşfi"
   ]
  },
  {
   "cell_type": "code",
   "execution_count": 68,
   "id": "ee9f742e",
   "metadata": {},
   "outputs": [],
   "source": [
    "current_year = 2024\n",
    "df['yas'] = current_year - df['model_yili']\n",
    "df.drop(columns='model_yili', axis=1, inplace=True)\n",
    "\n",
    "df['km_bilgisi'] = df['km_bilgisi'] + 1"
   ]
  },
  {
   "cell_type": "markdown",
   "id": "47a3b549",
   "metadata": {},
   "source": [
    "Potansiyel öznitelik dönüşümlerine ek olarak verisetimizdeki sayısal değerlerin logaritmasını alalım."
   ]
  },
  {
   "cell_type": "code",
   "execution_count": 69,
   "id": "04afec8c",
   "metadata": {},
   "outputs": [],
   "source": [
    "log = np.log(df.iloc[:, [0, 5, 7, 9, 10]])\n",
    "df.drop(columns=df.columns[[0, 5, 7, 9, 10]], inplace=True)\n",
    "df = pd.concat([df, log], axis=1)"
   ]
  },
  {
   "cell_type": "markdown",
   "id": "c50303e4",
   "metadata": {},
   "source": [
    "Veri setimizin güncel ilk 3 satırnı görüntüleyelim."
   ]
  },
  {
   "cell_type": "code",
   "execution_count": 70,
   "id": "54779664",
   "metadata": {},
   "outputs": [
    {
     "data": {
      "text/html": [
       "<div>\n",
       "<style scoped>\n",
       "    .dataframe tbody tr th:only-of-type {\n",
       "        vertical-align: middle;\n",
       "    }\n",
       "\n",
       "    .dataframe tbody tr th {\n",
       "        vertical-align: top;\n",
       "    }\n",
       "\n",
       "    .dataframe thead th {\n",
       "        text-align: right;\n",
       "    }\n",
       "</style>\n",
       "<table border=\"1\" class=\"dataframe\">\n",
       "  <thead>\n",
       "    <tr style=\"text-align: right;\">\n",
       "      <th></th>\n",
       "      <th>otomobil_label</th>\n",
       "      <th>marka_label</th>\n",
       "      <th>model_label</th>\n",
       "      <th>paket_label</th>\n",
       "      <th>yakit_turu</th>\n",
       "      <th>vites_turu</th>\n",
       "      <th>fiyat</th>\n",
       "      <th>km_bilgisi</th>\n",
       "      <th>beygir_gucu</th>\n",
       "      <th>motor</th>\n",
       "      <th>yas</th>\n",
       "    </tr>\n",
       "  </thead>\n",
       "  <tbody>\n",
       "    <tr>\n",
       "      <th>0</th>\n",
       "      <td>Otomobil</td>\n",
       "      <td>Renault</td>\n",
       "      <td>Megane</td>\n",
       "      <td>Icon</td>\n",
       "      <td>Dizel</td>\n",
       "      <td>Otomatik</td>\n",
       "      <td>13.629181</td>\n",
       "      <td>11.870607</td>\n",
       "      <td>4.700480</td>\n",
       "      <td>0.405465</td>\n",
       "      <td>2.079442</td>\n",
       "    </tr>\n",
       "    <tr>\n",
       "      <th>1</th>\n",
       "      <td>Otomobil</td>\n",
       "      <td>Renault</td>\n",
       "      <td>Megane</td>\n",
       "      <td>Icon</td>\n",
       "      <td>Dizel</td>\n",
       "      <td>Otomatik</td>\n",
       "      <td>13.715690</td>\n",
       "      <td>11.289794</td>\n",
       "      <td>4.700480</td>\n",
       "      <td>0.405465</td>\n",
       "      <td>1.945910</td>\n",
       "    </tr>\n",
       "    <tr>\n",
       "      <th>2</th>\n",
       "      <td>Otomobil</td>\n",
       "      <td>Audi</td>\n",
       "      <td>A3</td>\n",
       "      <td>Attraction</td>\n",
       "      <td>Benzin &amp; LPG</td>\n",
       "      <td>Manuel</td>\n",
       "      <td>13.451667</td>\n",
       "      <td>12.083911</td>\n",
       "      <td>4.624973</td>\n",
       "      <td>0.470004</td>\n",
       "      <td>2.564949</td>\n",
       "    </tr>\n",
       "  </tbody>\n",
       "</table>\n",
       "</div>"
      ],
      "text/plain": [
       "  otomobil_label marka_label model_label paket_label    yakit_turu vites_turu  \\\n",
       "0       Otomobil     Renault      Megane        Icon         Dizel   Otomatik   \n",
       "1       Otomobil     Renault      Megane        Icon         Dizel   Otomatik   \n",
       "2       Otomobil        Audi          A3  Attraction  Benzin & LPG     Manuel   \n",
       "\n",
       "       fiyat  km_bilgisi  beygir_gucu     motor       yas  \n",
       "0  13.629181   11.870607     4.700480  0.405465  2.079442  \n",
       "1  13.715690   11.289794     4.700480  0.405465  1.945910  \n",
       "2  13.451667   12.083911     4.624973  0.470004  2.564949  "
      ]
     },
     "execution_count": 70,
     "metadata": {},
     "output_type": "execute_result"
    }
   ],
   "source": [
    "df.head(3)"
   ]
  },
  {
   "cell_type": "markdown",
   "id": "930f85a3",
   "metadata": {},
   "source": [
    "## 2.2 Kategorik Değişkenlerin Sayısal Değere Dönüştürülmesi"
   ]
  },
  {
   "cell_type": "markdown",
   "id": "41c50e83",
   "metadata": {},
   "source": [
    "Veri setimizdeki kategorik değişkenlere one hot encoding işlemi uygulayalım."
   ]
  },
  {
   "cell_type": "code",
   "execution_count": 71,
   "id": "00d6fb31",
   "metadata": {},
   "outputs": [],
   "source": [
    "kategori = []\n",
    "kategorik = df.select_dtypes(include=[\"object\"])\n",
    "\n",
    "for i in kategorik.columns:\n",
    "    kategori.append(i)\n",
    "\n",
    "df = pd.get_dummies(df, columns=kategori, drop_first=True, prefix='')"
   ]
  },
  {
   "cell_type": "markdown",
   "id": "964d7a2f",
   "metadata": {},
   "source": [
    "Veri setimizin güncel ilk 3 satırnı görüntüleyelim."
   ]
  },
  {
   "cell_type": "code",
   "execution_count": 72,
   "id": "d7cc461b",
   "metadata": {},
   "outputs": [
    {
     "data": {
      "text/html": [
       "<div>\n",
       "<style scoped>\n",
       "    .dataframe tbody tr th:only-of-type {\n",
       "        vertical-align: middle;\n",
       "    }\n",
       "\n",
       "    .dataframe tbody tr th {\n",
       "        vertical-align: top;\n",
       "    }\n",
       "\n",
       "    .dataframe thead th {\n",
       "        text-align: right;\n",
       "    }\n",
       "</style>\n",
       "<table border=\"1\" class=\"dataframe\">\n",
       "  <thead>\n",
       "    <tr style=\"text-align: right;\">\n",
       "      <th></th>\n",
       "      <th>fiyat</th>\n",
       "      <th>km_bilgisi</th>\n",
       "      <th>beygir_gucu</th>\n",
       "      <th>motor</th>\n",
       "      <th>yas</th>\n",
       "      <th>_Otomobil</th>\n",
       "      <th>_Citroën</th>\n",
       "      <th>_Isuzu</th>\n",
       "      <th>_Opel</th>\n",
       "      <th>_Renault</th>\n",
       "      <th>...</th>\n",
       "      <th>_V-Go</th>\n",
       "      <th>_V-Joy</th>\n",
       "      <th>_V-Life</th>\n",
       "      <th>_Variant</th>\n",
       "      <th>_Benzin &amp; LPG</th>\n",
       "      <th>_Dizel</th>\n",
       "      <th>_Elektrik</th>\n",
       "      <th>_Hybrid</th>\n",
       "      <th>_Otomatik</th>\n",
       "      <th>_Yarı Otomatik</th>\n",
       "    </tr>\n",
       "  </thead>\n",
       "  <tbody>\n",
       "    <tr>\n",
       "      <th>0</th>\n",
       "      <td>13.629181</td>\n",
       "      <td>11.870607</td>\n",
       "      <td>4.700480</td>\n",
       "      <td>0.405465</td>\n",
       "      <td>2.079442</td>\n",
       "      <td>True</td>\n",
       "      <td>False</td>\n",
       "      <td>False</td>\n",
       "      <td>False</td>\n",
       "      <td>True</td>\n",
       "      <td>...</td>\n",
       "      <td>False</td>\n",
       "      <td>False</td>\n",
       "      <td>False</td>\n",
       "      <td>False</td>\n",
       "      <td>False</td>\n",
       "      <td>True</td>\n",
       "      <td>False</td>\n",
       "      <td>False</td>\n",
       "      <td>True</td>\n",
       "      <td>False</td>\n",
       "    </tr>\n",
       "    <tr>\n",
       "      <th>1</th>\n",
       "      <td>13.715690</td>\n",
       "      <td>11.289794</td>\n",
       "      <td>4.700480</td>\n",
       "      <td>0.405465</td>\n",
       "      <td>1.945910</td>\n",
       "      <td>True</td>\n",
       "      <td>False</td>\n",
       "      <td>False</td>\n",
       "      <td>False</td>\n",
       "      <td>True</td>\n",
       "      <td>...</td>\n",
       "      <td>False</td>\n",
       "      <td>False</td>\n",
       "      <td>False</td>\n",
       "      <td>False</td>\n",
       "      <td>False</td>\n",
       "      <td>True</td>\n",
       "      <td>False</td>\n",
       "      <td>False</td>\n",
       "      <td>True</td>\n",
       "      <td>False</td>\n",
       "    </tr>\n",
       "    <tr>\n",
       "      <th>2</th>\n",
       "      <td>13.451667</td>\n",
       "      <td>12.083911</td>\n",
       "      <td>4.624973</td>\n",
       "      <td>0.470004</td>\n",
       "      <td>2.564949</td>\n",
       "      <td>True</td>\n",
       "      <td>False</td>\n",
       "      <td>False</td>\n",
       "      <td>False</td>\n",
       "      <td>False</td>\n",
       "      <td>...</td>\n",
       "      <td>False</td>\n",
       "      <td>False</td>\n",
       "      <td>False</td>\n",
       "      <td>False</td>\n",
       "      <td>True</td>\n",
       "      <td>False</td>\n",
       "      <td>False</td>\n",
       "      <td>False</td>\n",
       "      <td>False</td>\n",
       "      <td>False</td>\n",
       "    </tr>\n",
       "  </tbody>\n",
       "</table>\n",
       "<p>3 rows × 148 columns</p>\n",
       "</div>"
      ],
      "text/plain": [
       "       fiyat  km_bilgisi  beygir_gucu     motor       yas  _Otomobil  \\\n",
       "0  13.629181   11.870607     4.700480  0.405465  2.079442       True   \n",
       "1  13.715690   11.289794     4.700480  0.405465  1.945910       True   \n",
       "2  13.451667   12.083911     4.624973  0.470004  2.564949       True   \n",
       "\n",
       "   _Citroën  _Isuzu  _Opel  _Renault  ...  _V-Go  _V-Joy  _V-Life  _Variant  \\\n",
       "0     False   False  False      True  ...  False   False    False     False   \n",
       "1     False   False  False      True  ...  False   False    False     False   \n",
       "2     False   False  False     False  ...  False   False    False     False   \n",
       "\n",
       "   _Benzin & LPG  _Dizel  _Elektrik  _Hybrid  _Otomatik  _Yarı Otomatik  \n",
       "0          False    True      False    False       True           False  \n",
       "1          False    True      False    False       True           False  \n",
       "2           True   False      False    False      False           False  \n",
       "\n",
       "[3 rows x 148 columns]"
      ]
     },
     "execution_count": 72,
     "metadata": {},
     "output_type": "execute_result"
    }
   ],
   "source": [
    "df.head(3)"
   ]
  },
  {
   "cell_type": "markdown",
   "id": "aff50ac5",
   "metadata": {},
   "source": [
    "Veri setimizin en son halinin yedeğini csv doyası olarak alalım."
   ]
  },
  {
   "cell_type": "code",
   "execution_count": 73,
   "id": "87ee4ee1",
   "metadata": {},
   "outputs": [],
   "source": [
    "df.to_csv('son_fiyat_tahmin_son.csv', index=False)"
   ]
  },
  {
   "cell_type": "markdown",
   "id": "60d3e833",
   "metadata": {},
   "source": [
    "## 2.3 Fiyat Tahmini İçin İlgili Özelliklerin Belirlenmesi "
   ]
  },
  {
   "cell_type": "markdown",
   "id": "264113bb",
   "metadata": {},
   "source": [
    "Yedeğini aldığımız csv dosyasını df'e aktaralım."
   ]
  },
  {
   "cell_type": "code",
   "execution_count": 74,
   "id": "840a5baa",
   "metadata": {},
   "outputs": [],
   "source": [
    "data = pd.read_csv('son_fiyat_tahmin_son.csv')\n",
    "df = data.copy()"
   ]
  },
  {
   "cell_type": "markdown",
   "id": "0656ab6d",
   "metadata": {},
   "source": [
    "Fiyat tamin modeli uygulamak için y değişkenine fiyat sütununu atayalım. Ardından X sütununa geri kalan sütunları atayalım."
   ]
  },
  {
   "cell_type": "code",
   "execution_count": 75,
   "id": "3cb1ac01",
   "metadata": {},
   "outputs": [],
   "source": [
    "y = df['fiyat']\n",
    "X = df.drop(columns='fiyat', axis=1)"
   ]
  },
  {
   "cell_type": "markdown",
   "id": "8b6a9902",
   "metadata": {},
   "source": [
    "Oluşturduğumuz y değişkenin ilk 5 satırını görüntüleyelim. "
   ]
  },
  {
   "cell_type": "code",
   "execution_count": 76,
   "id": "adb019c4",
   "metadata": {},
   "outputs": [
    {
     "data": {
      "text/plain": [
       "0    13.629181\n",
       "1    13.715690\n",
       "2    13.451667\n",
       "3    14.137594\n",
       "4    13.180632\n",
       "Name: fiyat, dtype: float64"
      ]
     },
     "execution_count": 76,
     "metadata": {},
     "output_type": "execute_result"
    }
   ],
   "source": [
    "y.head()"
   ]
  },
  {
   "cell_type": "markdown",
   "id": "0a8d994a",
   "metadata": {},
   "source": [
    "Oluşturduğumuz X değişkenin ilk 5 satırını görüntüleyelim."
   ]
  },
  {
   "cell_type": "code",
   "execution_count": 77,
   "id": "79281cfb",
   "metadata": {},
   "outputs": [
    {
     "data": {
      "text/html": [
       "<div>\n",
       "<style scoped>\n",
       "    .dataframe tbody tr th:only-of-type {\n",
       "        vertical-align: middle;\n",
       "    }\n",
       "\n",
       "    .dataframe tbody tr th {\n",
       "        vertical-align: top;\n",
       "    }\n",
       "\n",
       "    .dataframe thead th {\n",
       "        text-align: right;\n",
       "    }\n",
       "</style>\n",
       "<table border=\"1\" class=\"dataframe\">\n",
       "  <thead>\n",
       "    <tr style=\"text-align: right;\">\n",
       "      <th></th>\n",
       "      <th>km_bilgisi</th>\n",
       "      <th>beygir_gucu</th>\n",
       "      <th>motor</th>\n",
       "      <th>yas</th>\n",
       "      <th>_Otomobil</th>\n",
       "      <th>_Citroën</th>\n",
       "      <th>_Isuzu</th>\n",
       "      <th>_Opel</th>\n",
       "      <th>_Renault</th>\n",
       "      <th>_Volkswagen</th>\n",
       "      <th>...</th>\n",
       "      <th>_V-Go</th>\n",
       "      <th>_V-Joy</th>\n",
       "      <th>_V-Life</th>\n",
       "      <th>_Variant</th>\n",
       "      <th>_Benzin &amp; LPG</th>\n",
       "      <th>_Dizel</th>\n",
       "      <th>_Elektrik</th>\n",
       "      <th>_Hybrid</th>\n",
       "      <th>_Otomatik</th>\n",
       "      <th>_Yarı Otomatik</th>\n",
       "    </tr>\n",
       "  </thead>\n",
       "  <tbody>\n",
       "    <tr>\n",
       "      <th>0</th>\n",
       "      <td>11.870607</td>\n",
       "      <td>4.700480</td>\n",
       "      <td>0.405465</td>\n",
       "      <td>2.079442</td>\n",
       "      <td>True</td>\n",
       "      <td>False</td>\n",
       "      <td>False</td>\n",
       "      <td>False</td>\n",
       "      <td>True</td>\n",
       "      <td>False</td>\n",
       "      <td>...</td>\n",
       "      <td>False</td>\n",
       "      <td>False</td>\n",
       "      <td>False</td>\n",
       "      <td>False</td>\n",
       "      <td>False</td>\n",
       "      <td>True</td>\n",
       "      <td>False</td>\n",
       "      <td>False</td>\n",
       "      <td>True</td>\n",
       "      <td>False</td>\n",
       "    </tr>\n",
       "    <tr>\n",
       "      <th>1</th>\n",
       "      <td>11.289794</td>\n",
       "      <td>4.700480</td>\n",
       "      <td>0.405465</td>\n",
       "      <td>1.945910</td>\n",
       "      <td>True</td>\n",
       "      <td>False</td>\n",
       "      <td>False</td>\n",
       "      <td>False</td>\n",
       "      <td>True</td>\n",
       "      <td>False</td>\n",
       "      <td>...</td>\n",
       "      <td>False</td>\n",
       "      <td>False</td>\n",
       "      <td>False</td>\n",
       "      <td>False</td>\n",
       "      <td>False</td>\n",
       "      <td>True</td>\n",
       "      <td>False</td>\n",
       "      <td>False</td>\n",
       "      <td>True</td>\n",
       "      <td>False</td>\n",
       "    </tr>\n",
       "    <tr>\n",
       "      <th>2</th>\n",
       "      <td>12.083911</td>\n",
       "      <td>4.624973</td>\n",
       "      <td>0.470004</td>\n",
       "      <td>2.564949</td>\n",
       "      <td>True</td>\n",
       "      <td>False</td>\n",
       "      <td>False</td>\n",
       "      <td>False</td>\n",
       "      <td>False</td>\n",
       "      <td>False</td>\n",
       "      <td>...</td>\n",
       "      <td>False</td>\n",
       "      <td>False</td>\n",
       "      <td>False</td>\n",
       "      <td>False</td>\n",
       "      <td>True</td>\n",
       "      <td>False</td>\n",
       "      <td>False</td>\n",
       "      <td>False</td>\n",
       "      <td>False</td>\n",
       "      <td>False</td>\n",
       "    </tr>\n",
       "    <tr>\n",
       "      <th>3</th>\n",
       "      <td>10.404293</td>\n",
       "      <td>5.010635</td>\n",
       "      <td>1.252763</td>\n",
       "      <td>1.386294</td>\n",
       "      <td>True</td>\n",
       "      <td>False</td>\n",
       "      <td>False</td>\n",
       "      <td>False</td>\n",
       "      <td>False</td>\n",
       "      <td>False</td>\n",
       "      <td>...</td>\n",
       "      <td>False</td>\n",
       "      <td>False</td>\n",
       "      <td>False</td>\n",
       "      <td>False</td>\n",
       "      <td>False</td>\n",
       "      <td>False</td>\n",
       "      <td>False</td>\n",
       "      <td>False</td>\n",
       "      <td>True</td>\n",
       "      <td>False</td>\n",
       "    </tr>\n",
       "    <tr>\n",
       "      <th>4</th>\n",
       "      <td>11.736077</td>\n",
       "      <td>4.317488</td>\n",
       "      <td>0.336472</td>\n",
       "      <td>2.197225</td>\n",
       "      <td>True</td>\n",
       "      <td>False</td>\n",
       "      <td>False</td>\n",
       "      <td>False</td>\n",
       "      <td>False</td>\n",
       "      <td>True</td>\n",
       "      <td>...</td>\n",
       "      <td>False</td>\n",
       "      <td>False</td>\n",
       "      <td>False</td>\n",
       "      <td>False</td>\n",
       "      <td>False</td>\n",
       "      <td>True</td>\n",
       "      <td>False</td>\n",
       "      <td>False</td>\n",
       "      <td>False</td>\n",
       "      <td>False</td>\n",
       "    </tr>\n",
       "  </tbody>\n",
       "</table>\n",
       "<p>5 rows × 147 columns</p>\n",
       "</div>"
      ],
      "text/plain": [
       "   km_bilgisi  beygir_gucu     motor       yas  _Otomobil  _Citroën  _Isuzu  \\\n",
       "0   11.870607     4.700480  0.405465  2.079442       True     False   False   \n",
       "1   11.289794     4.700480  0.405465  1.945910       True     False   False   \n",
       "2   12.083911     4.624973  0.470004  2.564949       True     False   False   \n",
       "3   10.404293     5.010635  1.252763  1.386294       True     False   False   \n",
       "4   11.736077     4.317488  0.336472  2.197225       True     False   False   \n",
       "\n",
       "   _Opel  _Renault  _Volkswagen  ...  _V-Go  _V-Joy  _V-Life  _Variant  \\\n",
       "0  False      True        False  ...  False   False    False     False   \n",
       "1  False      True        False  ...  False   False    False     False   \n",
       "2  False     False        False  ...  False   False    False     False   \n",
       "3  False     False        False  ...  False   False    False     False   \n",
       "4  False     False         True  ...  False   False    False     False   \n",
       "\n",
       "   _Benzin & LPG  _Dizel  _Elektrik  _Hybrid  _Otomatik  _Yarı Otomatik  \n",
       "0          False    True      False    False       True           False  \n",
       "1          False    True      False    False       True           False  \n",
       "2           True   False      False    False      False           False  \n",
       "3          False   False      False    False       True           False  \n",
       "4          False    True      False    False      False           False  \n",
       "\n",
       "[5 rows x 147 columns]"
      ]
     },
     "execution_count": 77,
     "metadata": {},
     "output_type": "execute_result"
    }
   ],
   "source": [
    "X.head()"
   ]
  },
  {
   "cell_type": "markdown",
   "id": "ee6f91ce",
   "metadata": {},
   "source": [
    "# 3. Model Oluşturma"
   ]
  },
  {
   "cell_type": "markdown",
   "id": "822498bf",
   "metadata": {},
   "source": [
    "Makine öğrenmesi modellerimizi eğitmek ve test etmek için %20 test verisi olacak şekilde bölelim. "
   ]
  },
  {
   "cell_type": "code",
   "execution_count": 78,
   "id": "b8fc2106",
   "metadata": {},
   "outputs": [],
   "source": [
    "from sklearn.model_selection import train_test_split\n",
    "\n",
    "X_train, X_test, y_train, y_test = train_test_split(X,\n",
    "                                                    y,\n",
    "                                                    test_size=0.2,\n",
    "                                                    random_state=42)"
   ]
  },
  {
   "cell_type": "markdown",
   "id": "37a4168c",
   "metadata": {},
   "source": [
    "X değişkenlerini StandartScaler ile standartlaştıralım."
   ]
  },
  {
   "cell_type": "code",
   "execution_count": 79,
   "id": "121b6857",
   "metadata": {},
   "outputs": [],
   "source": [
    "from sklearn.preprocessing import StandardScaler\n",
    "\n",
    "sX = StandardScaler()\n",
    "X_train_sc = sX.fit_transform(X_train)\n",
    "X_test_sc = sX.transform(X_test)"
   ]
  },
  {
   "cell_type": "markdown",
   "id": "37d51257",
   "metadata": {},
   "source": [
    "# 3.1 Farklı Modelleri Uygulama"
   ]
  },
  {
   "cell_type": "markdown",
   "id": "153711b2",
   "metadata": {},
   "source": [
    "Linear Regresyon ile modelimi eğitelim ve test verilerimizle karşılaştırarak r^2 değerini hesaplayalım."
   ]
  },
  {
   "cell_type": "code",
   "execution_count": 80,
   "id": "233d0c2f",
   "metadata": {},
   "outputs": [],
   "source": [
    "from sklearn.linear_model import LinearRegression\n",
    "\n",
    "lr = LinearRegression()\n",
    "lr.fit(X_train_sc, y_train)\n",
    "y_pred = lr.predict(X_test_sc)"
   ]
  },
  {
   "cell_type": "markdown",
   "id": "73de29a6",
   "metadata": {},
   "source": [
    "lineer regresyon r^2 değeri oldukça kötü çıktı."
   ]
  },
  {
   "cell_type": "code",
   "execution_count": 81,
   "id": "400b694c",
   "metadata": {},
   "outputs": [
    {
     "name": "stdout",
     "output_type": "stream",
     "text": [
      "lineer regresyon r^2:  -5.8444930676479176e+16\n"
     ]
    }
   ],
   "source": [
    "print(\"lineer regresyon r^2: \", mt.r2_score(y_test, y_pred))"
   ]
  },
  {
   "cell_type": "markdown",
   "id": "eedb1a66",
   "metadata": {},
   "source": [
    "Ridge Regression ile modelimizi eğitelim ve test verilerimizle karşılaştırarak r^2 değerini hesaplayalım."
   ]
  },
  {
   "cell_type": "code",
   "execution_count": 82,
   "id": "f28d0d2f",
   "metadata": {},
   "outputs": [
    {
     "name": "stdout",
     "output_type": "stream",
     "text": [
      "Ridge rosso r^2:  0.7686784498671118\n"
     ]
    }
   ],
   "source": [
    "from sklearn.linear_model import Ridge\n",
    "\n",
    "ridge = Ridge(alpha=0.1)\n",
    "ridge.fit(X_train, y_train)\n",
    "y_pred2 = ridge.predict(X_test)\n",
    "print(\"Ridge rosso r^2: \", mt.r2_score(y_test, y_pred2))"
   ]
  },
  {
   "cell_type": "markdown",
   "id": "035ea874",
   "metadata": {},
   "source": [
    "ElasticNet Regression ile modelimizi eğitelim ve test verilerimizle karşılaştırarak r^2 değerini hesaplayalım."
   ]
  },
  {
   "cell_type": "code",
   "execution_count": 83,
   "id": "5cfeffbf",
   "metadata": {},
   "outputs": [
    {
     "name": "stdout",
     "output_type": "stream",
     "text": [
      "ElasticNet r^2:  0.5912793428875782\n"
     ]
    }
   ],
   "source": [
    "from sklearn.linear_model import ElasticNet\n",
    "\n",
    "en = ElasticNet(alpha=0.1)\n",
    "en.fit(X_train, y_train)\n",
    "y_pred4 = en.predict(X_test)\n",
    "print(\"ElasticNet r^2: \", mt.r2_score(y_test, y_pred4))"
   ]
  },
  {
   "cell_type": "markdown",
   "id": "c44b6979",
   "metadata": {},
   "source": [
    "Decision Tree Regression ile modelimizi eğitelim ve test verilerimizle karşılaştırarak r^2 değerini hesaplayalım."
   ]
  },
  {
   "cell_type": "code",
   "execution_count": 84,
   "id": "dd778f0e",
   "metadata": {},
   "outputs": [
    {
     "name": "stdout",
     "output_type": "stream",
     "text": [
      "decision tree r^2:  0.7618555212113871\n"
     ]
    }
   ],
   "source": [
    "from sklearn.tree import DecisionTreeRegressor\n",
    "\n",
    "r_dt = DecisionTreeRegressor(random_state=42)\n",
    "r_dt.fit(X_train, y_train)\n",
    "y_pred7 = r_dt.predict(X_test)\n",
    "print('decision tree r^2: ', mt.r2_score(y_test, y_pred7))"
   ]
  },
  {
   "cell_type": "markdown",
   "id": "3c4898ad",
   "metadata": {},
   "source": [
    "Random Forest regresyon ile modelimizi eğitelim ve test verilerimizle karşılaştırarak r^2 değerini hesaplayalım."
   ]
  },
  {
   "cell_type": "code",
   "execution_count": 85,
   "id": "cee37343",
   "metadata": {},
   "outputs": [
    {
     "name": "stdout",
     "output_type": "stream",
     "text": [
      "random forest r^2:  0.7949837388136201\n"
     ]
    }
   ],
   "source": [
    "from sklearn.ensemble import RandomForestRegressor\n",
    "\n",
    "rf_reg = RandomForestRegressor(n_estimators=10, random_state=42)\n",
    "rf_reg.fit(X_train, y_train)\n",
    "y_pred8 = rf_reg.predict(X_test)\n",
    "print('random forest r^2: ', mt.r2_score(y_test, y_pred8))"
   ]
  },
  {
   "cell_type": "markdown",
   "id": "5ffa2347",
   "metadata": {},
   "source": [
    "XGB ile regresyon ile modelimizi eğitelim ve test verilerimizle karşılaştırarak r^2 değerini hesaplayalım."
   ]
  },
  {
   "cell_type": "code",
   "execution_count": 86,
   "id": "cb0357ee",
   "metadata": {},
   "outputs": [
    {
     "name": "stdout",
     "output_type": "stream",
     "text": [
      "XGBRegressor(xgb1) r^2:  0.8105028349629503\n"
     ]
    }
   ],
   "source": [
    "import xgboost as xgb\n",
    "from xgboost import XGBRegressor\n",
    "\n",
    "xgb1 = XGBRegressor(colsample_bytree=1,\n",
    "                    learning_rate=0.3,\n",
    "                    max_depth=6,\n",
    "                    n_estimators=100)\n",
    "model_xgb = xgb1.fit(X_train, y_train)\n",
    "y_pred9 = model_xgb.predict(X_test)\n",
    "print('XGBRegressor(xgb1) r^2: ', mt.r2_score(y_test, y_pred9))"
   ]
  },
  {
   "cell_type": "markdown",
   "id": "6bdc9a52",
   "metadata": {},
   "source": [
    "XGBRegressorun farklı parametre değerleri ile modelimizi eğitelim ve test verilerimizle karşılaştırarak r^2 değerini hesaplayalım."
   ]
  },
  {
   "cell_type": "code",
   "execution_count": 87,
   "id": "b39d6f94",
   "metadata": {},
   "outputs": [
    {
     "name": "stdout",
     "output_type": "stream",
     "text": [
      "XGBRegressor(xgb2) r^2: 0.81329130672299\n"
     ]
    }
   ],
   "source": [
    "xgb2 = XGBRegressor(colsample_bytree=0.7,\n",
    "                    learning_rate=0.1,\n",
    "                    max_depth=10,\n",
    "                    min_child_weight=7,\n",
    "                    objective='reg:squarederror',\n",
    "                    subsample=0.7)\n",
    "model_xgb2 = xgb2.fit(X_train, y_train)\n",
    "y_pred10 = model_xgb2.predict(X_test)\n",
    "print('XGBRegressor(xgb2) r^2:', mt.r2_score(y_test, y_pred10))"
   ]
  },
  {
   "cell_type": "markdown",
   "id": "1c4ab37c",
   "metadata": {},
   "source": [
    "# 4. Model Değerlendirme"
   ]
  },
  {
   "cell_type": "code",
   "execution_count": 88,
   "id": "6b8dad7f",
   "metadata": {},
   "outputs": [
    {
     "name": "stdout",
     "output_type": "stream",
     "text": [
      "lineer regresyon r^2:  -5.8444930676479176e+16\n",
      "Ridge rosso r^2:  0.7686784498671118\n",
      "ElasticNet r^2:  0.5912793428875782\n",
      "decision tree r^2:  0.7618555212113871\n",
      "random forest r^2:  0.7949837388136201\n",
      "XGBRegressor(xgb1) r^2:  0.8105028349629503\n",
      "XGBRegressor(xgb2) r^2: 0.81329130672299\n"
     ]
    }
   ],
   "source": [
    "print(\"lineer regresyon r^2: \", mt.r2_score(y_test, y_pred))\n",
    "print(\"Ridge rosso r^2: \", mt.r2_score(y_test, y_pred2))\n",
    "print(\"ElasticNet r^2: \", mt.r2_score(y_test, y_pred4))\n",
    "print('decision tree r^2: ', mt.r2_score(y_test, y_pred7))\n",
    "print('random forest r^2: ', mt.r2_score(y_test, y_pred8))\n",
    "print('XGBRegressor(xgb1) r^2: ', mt.r2_score(y_test, y_pred9))\n",
    "print('XGBRegressor(xgb2) r^2:', mt.r2_score(y_test, y_pred10))"
   ]
  },
  {
   "cell_type": "markdown",
   "id": "3c9e7fd4",
   "metadata": {},
   "source": [
    "Görüldüğü üzere en yüksek r^2 değeri 0.81329130672299 ile 2XGBRegressor modelimiz oldu."
   ]
  },
  {
   "cell_type": "markdown",
   "id": "fb5c1733",
   "metadata": {},
   "source": [
    "Modelimizin yedek dosyasını oluşturalım."
   ]
  },
  {
   "cell_type": "markdown",
   "id": "a3a00fe4",
   "metadata": {},
   "source": [
    "# 5. Öneri Sistemi"
   ]
  },
  {
   "cell_type": "code",
   "execution_count": 89,
   "id": "313dff58",
   "metadata": {},
   "outputs": [],
   "source": [
    "import pickle\n",
    "\n",
    "model_dosyasi = \"arac_fiyat_XGBRegressor\"\n",
    "pickle.dump(xgb2, open(model_dosyasi, 'wb'))"
   ]
  },
  {
   "cell_type": "code",
   "execution_count": 90,
   "id": "6c23720d",
   "metadata": {},
   "outputs": [],
   "source": [
    "data = pd.read_csv('son_fiyat_tahmin_son.csv')\n",
    "df = data.copy()"
   ]
  },
  {
   "cell_type": "markdown",
   "id": "42cb9eac",
   "metadata": {},
   "source": [
    "Yedeğini aldığımız modelin mymodel'e koyalım."
   ]
  },
  {
   "cell_type": "code",
   "execution_count": 91,
   "id": "ed5da1b4",
   "metadata": {},
   "outputs": [],
   "source": [
    "mymodel = pickle.load(open(\"arac_fiyat_XGBRegressor\", 'rb'))"
   ]
  },
  {
   "cell_type": "markdown",
   "id": "e8c8e627",
   "metadata": {},
   "source": [
    "#### Kullanıcıdan alınan araç özelliklerini kabul eden kullanıcı dostu bir program geliştirelim."
   ]
  },
  {
   "cell_type": "markdown",
   "id": "087490d1",
   "metadata": {},
   "source": [
    "Örnek olarak ilk olarak km: 227000, beygir: 102, motor: 1.6, yıl: 2004, Otomobil, Audi, A3, Attraction, Benzin & LPG, Otomatik değerlerini girelim.\n",
    "\n",
    "Ardından ikinci örnek olarak km: 235000, beygir: 100, motor: 1.5, yıl: 2006, Otomobil, Renault, Megane, Expession Plus, Dizel, Manuel değerlerini girelim ve tahmin edilen fiyatları inceleyelim."
   ]
  },
  {
   "cell_type": "code",
   "execution_count": 92,
   "id": "74f99f29",
   "metadata": {},
   "outputs": [
    {
     "name": "stdout",
     "output_type": "stream",
     "text": [
      "km: 227000\n",
      "beygir: 102\n",
      "motor: 1.6\n",
      "yıl: 2004\n",
      "1-Otomobil\n",
      "2-Arazi, SUV & Pickup\n",
      "Araç türü: 1\n",
      "1-Citroën\n",
      "2-Isuzu\n",
      "3-Opel\n",
      "4-Renault\n",
      "5-Volkswagen\n",
      "6-Audi\n",
      "Marka: 6\n",
      "1-Astra\n",
      "2-C3 AirCross\n",
      "3-D-Max\n",
      "4-Megane\n",
      "5-Polo\n",
      "6-A3\n",
      "Model: 6\n",
      "Paket: Attraction\n",
      "1-Benzin & LPG\n",
      "2-Dizel\n",
      "3-Elektrik\n",
      "4-Hybrid\n",
      "5-Benzin\n",
      "Yakıt Türü: 1\n",
      "1-Otomatik\n",
      "2-Yarı Otomatik\n",
      "3-Manuel\n",
      "Vites Türü: 1\n",
      "Önerilen Fiyat : 368442.72\n",
      "Başka bir tahmin yapmak ister misiniz? (E/H): e\n",
      "km: 235000\n",
      "beygir: 100\n",
      "motor: 1.5\n",
      "yıl: 2006\n",
      "1-Otomobil\n",
      "2-Arazi, SUV & Pickup\n",
      "Araç türü: 1\n",
      "1-Citroën\n",
      "2-Isuzu\n",
      "3-Opel\n",
      "4-Renault\n",
      "5-Volkswagen\n",
      "6-Audi\n",
      "Marka: 4\n",
      "1-Astra\n",
      "2-C3 AirCross\n",
      "3-D-Max\n",
      "4-Megane\n",
      "5-Polo\n",
      "6-A3\n",
      "Model: 4\n",
      "Paket: Expression Plus\n",
      "1-Benzin & LPG\n",
      "2-Dizel\n",
      "3-Elektrik\n",
      "4-Hybrid\n",
      "5-Benzin\n",
      "Yakıt Türü: 2\n",
      "1-Otomatik\n",
      "2-Yarı Otomatik\n",
      "3-Manuel\n",
      "Vites Türü: 3\n",
      "Önerilen Fiyat : 339242.78\n",
      "Başka bir tahmin yapmak ister misiniz? (E/H): h\n"
     ]
    }
   ],
   "source": [
    "while True:\n",
    "    #5\n",
    "    km = int(input(\"km: \"))\n",
    "    lg_km = np.log(km)\n",
    "\n",
    "    #8\n",
    "    bg = int(input(\"beygir: \"))\n",
    "    lg_bg = np.log(bg)\n",
    "\n",
    "    #10\n",
    "    mt = float(input(\"motor: \"))\n",
    "    lg_mt = np.log(mt)\n",
    "\n",
    "    #6\n",
    "    yil = int(input(\"yıl: \"))\n",
    "    yas = 2024 - yil\n",
    "    lg_yas = np.log(yas)\n",
    "\n",
    "    #1\n",
    "    print(\"1-Otomobil\\n2-Arazi, SUV & Pickup\")\n",
    "    secim = int(input(\"Araç türü: \"))\n",
    "\n",
    "    if secim == 1:\n",
    "        oto = True\n",
    "    elif secim == 2:\n",
    "        oto = False\n",
    "\n",
    "    #2\n",
    "    print(\"1-Citroën\\n2-Isuzu\\n3-Opel\\n4-Renault\\n5-Volkswagen\\n6-Audi\")\n",
    "    marka_etiketleri = {\n",
    "        1: \"Citroën\",\n",
    "        2: \"Isuzu\",\n",
    "        3: \"Opel\",\n",
    "        4: \"Renault\",\n",
    "        5: \"Volkswagen\",\n",
    "    }\n",
    "    secim = int(input(\"Marka: \"))\n",
    "    for marka in marka_etiketleri:\n",
    "        marka_etiketleri[marka] = False\n",
    "    if secim in marka_etiketleri:\n",
    "        marka_etiketleri[secim] = True\n",
    "\n",
    "    #3\n",
    "    print(\"1-Astra\\n2-C3 AirCross\\n3-D-Max\\n4-Megane\\n5-Polo\\n6-A3\")\n",
    "    model_etiketleri = {\n",
    "        1: \"Astra\",\n",
    "        2: \"C3 AirCross\",\n",
    "        3: \"D-Max\",\n",
    "        4: \"Megane\",\n",
    "        5: \"Polo\",\n",
    "    }\n",
    "    secim = int(input(\"Model: \"))\n",
    "    for model in marka_etiketleri:\n",
    "        model_etiketleri[model] = False\n",
    "    if secim in marka_etiketleri:\n",
    "        model_etiketleri[secim] = True\n",
    "\n",
    "    #4\n",
    "    secim = '_' + input(\"Paket: \")\n",
    "    paket = df.columns[16:142]\n",
    "    paket_etiket = {sutun: False for sutun in paket}\n",
    "    if secim in paket_etiket:\n",
    "        paket_etiket[secim] = True\n",
    "\n",
    "    #7\n",
    "    print(\"1-Benzin & LPG\\n2-Dizel\\n3-Elektrik\\n4-Hybrid\\n5-Benzin\")\n",
    "    yakit_etiketleri = {\n",
    "        1: \"Benzin & LPG\",\n",
    "        2: \"Dizel\",\n",
    "        3: \"Elektrik\",\n",
    "        4: \"Hybrid\",\n",
    "    }\n",
    "    secim = int(input(\"Yakıt Türü: \"))\n",
    "    for yakit in yakit_etiketleri:\n",
    "        yakit_etiketleri[yakit] = False\n",
    "    if secim in yakit_etiketleri:\n",
    "        yakit_etiketleri[secim] = True\n",
    "\n",
    "    #9\n",
    "    print(\"1-Otomatik\\n2-Yarı Otomatik\\n3-Manuel\")\n",
    "    vites_etiketleri = {\n",
    "        1: \"Otomatik\",\n",
    "        2: \"Yarı Otomatik\",\n",
    "    }\n",
    "    secim = int(input(\"Vites Türü: \"))\n",
    "    for vites in vites_etiketleri:\n",
    "        vites_etiketleri[vites] = False\n",
    "    if secim in vites_etiketleri:\n",
    "        vites_etiketleri[secim] = True\n",
    "\n",
    "    user_input = [\n",
    "        lg_km, lg_bg, lg_mt, lg_yas, oto, *marka_etiketleri.values(),\n",
    "        *model_etiketleri.values(), *paket_etiket.values(),\n",
    "        *yakit_etiketleri.values(), *vites_etiketleri.values()\n",
    "    ]\n",
    "\n",
    "    # Assuming model_xgb is already trained\n",
    "    prediction = mymodel.predict([user_input])\n",
    "\n",
    "    print(\"Önerilen Fiyat :\", np.exp(prediction[0]))\n",
    "\n",
    "    devam = input(\"Başka bir tahmin yapmak ister misiniz? (E/H): \")\n",
    "    if devam.lower() != 'e':\n",
    "        break"
   ]
  },
  {
   "cell_type": "markdown",
   "id": "5ef88121",
   "metadata": {},
   "source": [
    "Görüldüğü üzere mevcut veri setimizdeki test değerlerine oldukça yakın sonuçlar üretmektedir."
   ]
  },
  {
   "cell_type": "markdown",
   "id": "806f0ed6",
   "metadata": {},
   "source": [
    "Ana hedefin dışında veriden elde edilebilecek diğer önemli bilgilerinde araştırılması istenmekte. Bu nedenle daha önce yedeğini almış olduğumuz csv dosyasını df2' ye aktaralım."
   ]
  },
  {
   "cell_type": "code",
   "execution_count": 93,
   "id": "7c66f0c2",
   "metadata": {},
   "outputs": [
    {
     "data": {
      "text/plain": [
       "fiyat                  0\n",
       "otomobil_label         0\n",
       "marka_label            0\n",
       "model_label            0\n",
       "paket_label            0\n",
       "il                 53136\n",
       "ilce                 293\n",
       "mahalle           504960\n",
       "km_bilgisi             0\n",
       "model_yili             0\n",
       "yakit_turu             0\n",
       "beygir_gucu            0\n",
       "vites_turu             0\n",
       "motor                  0\n",
       "dtype: int64"
      ]
     },
     "execution_count": 93,
     "metadata": {},
     "output_type": "execute_result"
    }
   ],
   "source": [
    "df2 = pd.read_csv('dahil_il_ilce_mahalle2.csv')\n",
    "df2.isnull().sum()"
   ]
  },
  {
   "cell_type": "markdown",
   "id": "8da0fcc3",
   "metadata": {},
   "source": [
    "Veri setindeki il,ilçe,mahalle sütunlarındaki NaN değerleri Belirtilmemiş olarak değiştirelim."
   ]
  },
  {
   "cell_type": "code",
   "execution_count": 94,
   "id": "3d3aee98",
   "metadata": {},
   "outputs": [
    {
     "data": {
      "text/plain": [
       "fiyat             0\n",
       "otomobil_label    0\n",
       "marka_label       0\n",
       "model_label       0\n",
       "paket_label       0\n",
       "il                0\n",
       "ilce              0\n",
       "mahalle           0\n",
       "km_bilgisi        0\n",
       "model_yili        0\n",
       "yakit_turu        0\n",
       "beygir_gucu       0\n",
       "vites_turu        0\n",
       "motor             0\n",
       "dtype: int64"
      ]
     },
     "execution_count": 94,
     "metadata": {},
     "output_type": "execute_result"
    }
   ],
   "source": [
    "df2 = df2.fillna('Belirtilmemiş')\n",
    "df2.isnull().sum()"
   ]
  },
  {
   "cell_type": "markdown",
   "id": "054e8e34",
   "metadata": {},
   "source": [
    "Hangi ilin hangi ilçesinde en popüler araba marka sayısını bulalım."
   ]
  },
  {
   "cell_type": "markdown",
   "id": "e31bce2f",
   "metadata": {},
   "source": [
    "Populer araç markalarına göre tamirci,aksesuarcı,parçacı açılabilir"
   ]
  },
  {
   "cell_type": "code",
   "execution_count": 95,
   "id": "904e943e",
   "metadata": {},
   "outputs": [
    {
     "data": {
      "text/html": [
       "<div>\n",
       "<style scoped>\n",
       "    .dataframe tbody tr th:only-of-type {\n",
       "        vertical-align: middle;\n",
       "    }\n",
       "\n",
       "    .dataframe tbody tr th {\n",
       "        vertical-align: top;\n",
       "    }\n",
       "\n",
       "    .dataframe thead th {\n",
       "        text-align: right;\n",
       "    }\n",
       "</style>\n",
       "<table border=\"1\" class=\"dataframe\">\n",
       "  <thead>\n",
       "    <tr style=\"text-align: right;\">\n",
       "      <th></th>\n",
       "      <th>il</th>\n",
       "      <th>ilce</th>\n",
       "      <th>marka_label</th>\n",
       "      <th>arac_sayisi</th>\n",
       "    </tr>\n",
       "    <tr>\n",
       "      <th>il</th>\n",
       "      <th></th>\n",
       "      <th></th>\n",
       "      <th></th>\n",
       "      <th></th>\n",
       "    </tr>\n",
       "  </thead>\n",
       "  <tbody>\n",
       "    <tr>\n",
       "      <th>Adana</th>\n",
       "      <td>Adana</td>\n",
       "      <td>Seyhan</td>\n",
       "      <td>Renault</td>\n",
       "      <td>3189</td>\n",
       "    </tr>\n",
       "    <tr>\n",
       "      <th>Adıyaman</th>\n",
       "      <td>Adıyaman</td>\n",
       "      <td>Merkez</td>\n",
       "      <td>Renault</td>\n",
       "      <td>586</td>\n",
       "    </tr>\n",
       "    <tr>\n",
       "      <th>Afyonkarahisar</th>\n",
       "      <td>Afyonkarahisar</td>\n",
       "      <td>Merkez</td>\n",
       "      <td>Volkswagen</td>\n",
       "      <td>855</td>\n",
       "    </tr>\n",
       "    <tr>\n",
       "      <th>Aksaray</th>\n",
       "      <td>Aksaray</td>\n",
       "      <td>Merkez</td>\n",
       "      <td>Volkswagen</td>\n",
       "      <td>1134</td>\n",
       "    </tr>\n",
       "    <tr>\n",
       "      <th>Amasya</th>\n",
       "      <td>Amasya</td>\n",
       "      <td>Merkez</td>\n",
       "      <td>Renault</td>\n",
       "      <td>458</td>\n",
       "    </tr>\n",
       "    <tr>\n",
       "      <th>...</th>\n",
       "      <td>...</td>\n",
       "      <td>...</td>\n",
       "      <td>...</td>\n",
       "      <td>...</td>\n",
       "    </tr>\n",
       "    <tr>\n",
       "      <th>Çorum</th>\n",
       "      <td>Çorum</td>\n",
       "      <td>Merkez</td>\n",
       "      <td>Renault</td>\n",
       "      <td>860</td>\n",
       "    </tr>\n",
       "    <tr>\n",
       "      <th>İstanbul</th>\n",
       "      <td>İstanbul</td>\n",
       "      <td>Bağcılar</td>\n",
       "      <td>Renault</td>\n",
       "      <td>6671</td>\n",
       "    </tr>\n",
       "    <tr>\n",
       "      <th>İzmir</th>\n",
       "      <td>İzmir</td>\n",
       "      <td>Buca</td>\n",
       "      <td>Renault</td>\n",
       "      <td>1895</td>\n",
       "    </tr>\n",
       "    <tr>\n",
       "      <th>Şanlıurfa</th>\n",
       "      <td>Şanlıurfa</td>\n",
       "      <td>Haliliye</td>\n",
       "      <td>Renault</td>\n",
       "      <td>1353</td>\n",
       "    </tr>\n",
       "    <tr>\n",
       "      <th>Şırnak</th>\n",
       "      <td>Şırnak</td>\n",
       "      <td>Cizre</td>\n",
       "      <td>Renault</td>\n",
       "      <td>217</td>\n",
       "    </tr>\n",
       "  </tbody>\n",
       "</table>\n",
       "<p>82 rows × 4 columns</p>\n",
       "</div>"
      ],
      "text/plain": [
       "                            il      ilce marka_label  arac_sayisi\n",
       "il                                                               \n",
       "Adana                    Adana    Seyhan     Renault         3189\n",
       "Adıyaman              Adıyaman    Merkez     Renault          586\n",
       "Afyonkarahisar  Afyonkarahisar    Merkez  Volkswagen          855\n",
       "Aksaray                Aksaray    Merkez  Volkswagen         1134\n",
       "Amasya                  Amasya    Merkez     Renault          458\n",
       "...                        ...       ...         ...          ...\n",
       "Çorum                    Çorum    Merkez     Renault          860\n",
       "İstanbul              İstanbul  Bağcılar     Renault         6671\n",
       "İzmir                    İzmir      Buca     Renault         1895\n",
       "Şanlıurfa            Şanlıurfa  Haliliye     Renault         1353\n",
       "Şırnak                  Şırnak     Cizre     Renault          217\n",
       "\n",
       "[82 rows x 4 columns]"
      ]
     },
     "execution_count": 95,
     "metadata": {},
     "output_type": "execute_result"
    }
   ],
   "source": [
    "# Her ilçede her markadan kaç araç olduğunu gruplayarak sayalaım\n",
    "il_ilce_marka_sayisi = df2.groupby(['il', 'ilce', 'marka_label'\n",
    "                                    ]).size().reset_index(name='arac_sayisi')\n",
    "\n",
    "# Her il için en çok bulunan markayı belirleyelim.\n",
    "en_cok_bulunan_markalar = il_ilce_marka_sayisi.loc[\n",
    "    il_ilce_marka_sayisi.groupby(['il', 'ilce'])['arac_sayisi'].idxmax()]\n",
    "\n",
    "# Her il için en çok bulunan markayı gösterelim\n",
    "en_cok_bulunan_markalar_il = en_cok_bulunan_markalar.groupby('il').apply(\n",
    "    lambda x: x.loc[x['arac_sayisi'].idxmax()])\n",
    "\n",
    "en_cok_bulunan_markalar_il[['il', 'ilce', 'marka_label', 'arac_sayisi']]"
   ]
  },
  {
   "cell_type": "markdown",
   "id": "8976c6b4",
   "metadata": {},
   "source": [
    "Kullanıcıdan il ve ilçe istiyerek kullanıcın girmiş olduğun il ve ilçedeki en popüler araba markasını getirelim. Böylelikle kullanıcı o ilçedeki en popüler araba markasının tamircisini açabilir, o markaya özel aksesuarcı açabilir vs."
   ]
  },
  {
   "cell_type": "code",
   "execution_count": 96,
   "id": "3a35fac1",
   "metadata": {},
   "outputs": [
    {
     "name": "stdout",
     "output_type": "stream",
     "text": [
      "il: Adana\n",
      "ilçe: Seyhan\n",
      "Girmiş olduğunuz il ve ilçede en çok bulunan marka:  Renault  -  3189  adet\n"
     ]
    }
   ],
   "source": [
    "şehir = input(\"il: \")\n",
    "ilçe = input(\"ilçe: \")\n",
    "il_ilce_marka_en_cok = il_ilce_marka_sayisi[\n",
    "    (il_ilce_marka_sayisi['il'] == 'Adana')\n",
    "    & (il_ilce_marka_sayisi['ilce'] == 'Seyhan')]\n",
    "en_cok_marka = il_ilce_marka_en_cok.loc[\n",
    "    il_ilce_marka_en_cok['arac_sayisi'].idxmax()]\n",
    "\n",
    "print(\"Girmiş olduğunuz il ve ilçede en çok bulunan marka: \",\n",
    "      en_cok_marka['marka_label'], \" - \", en_cok_marka['arac_sayisi'], \" adet\")"
   ]
  },
  {
   "cell_type": "markdown",
   "id": "229db815",
   "metadata": {},
   "source": [
    "Hangi markanın en çok tutulan modeli ve özelliklerini(paket vs)'nin tespit edilmesi. Böylelikler Piyasada en çok tutulan modeli ve özellikleri tespit edilmiş olur."
   ]
  },
  {
   "cell_type": "code",
   "execution_count": 97,
   "id": "09bf3d17",
   "metadata": {},
   "outputs": [
    {
     "data": {
      "text/html": [
       "<div>\n",
       "<style scoped>\n",
       "    .dataframe tbody tr th:only-of-type {\n",
       "        vertical-align: middle;\n",
       "    }\n",
       "\n",
       "    .dataframe tbody tr th {\n",
       "        vertical-align: top;\n",
       "    }\n",
       "\n",
       "    .dataframe thead th {\n",
       "        text-align: right;\n",
       "    }\n",
       "</style>\n",
       "<table border=\"1\" class=\"dataframe\">\n",
       "  <thead>\n",
       "    <tr style=\"text-align: right;\">\n",
       "      <th></th>\n",
       "      <th>marka_label</th>\n",
       "      <th>model_label</th>\n",
       "      <th>paket_label</th>\n",
       "      <th>model_yili</th>\n",
       "      <th>arac_sayisi</th>\n",
       "    </tr>\n",
       "    <tr>\n",
       "      <th>marka_label</th>\n",
       "      <th></th>\n",
       "      <th></th>\n",
       "      <th></th>\n",
       "      <th></th>\n",
       "      <th></th>\n",
       "    </tr>\n",
       "  </thead>\n",
       "  <tbody>\n",
       "    <tr>\n",
       "      <th>Audi</th>\n",
       "      <td>Audi</td>\n",
       "      <td>A3</td>\n",
       "      <td>Dynamic</td>\n",
       "      <td>2017</td>\n",
       "      <td>4368</td>\n",
       "    </tr>\n",
       "    <tr>\n",
       "      <th>Citroën</th>\n",
       "      <td>Citroën</td>\n",
       "      <td>C3 AirCross</td>\n",
       "      <td>Feel Bold</td>\n",
       "      <td>2022</td>\n",
       "      <td>1328</td>\n",
       "    </tr>\n",
       "    <tr>\n",
       "      <th>Isuzu</th>\n",
       "      <td>Isuzu</td>\n",
       "      <td>D-Max</td>\n",
       "      <td>V-Life</td>\n",
       "      <td>2022</td>\n",
       "      <td>286</td>\n",
       "    </tr>\n",
       "    <tr>\n",
       "      <th>Opel</th>\n",
       "      <td>Opel</td>\n",
       "      <td>Astra</td>\n",
       "      <td>Edition Plus</td>\n",
       "      <td>2020</td>\n",
       "      <td>4111</td>\n",
       "    </tr>\n",
       "    <tr>\n",
       "      <th>Renault</th>\n",
       "      <td>Renault</td>\n",
       "      <td>Megane</td>\n",
       "      <td>Touch</td>\n",
       "      <td>2017</td>\n",
       "      <td>16211</td>\n",
       "    </tr>\n",
       "    <tr>\n",
       "      <th>Volkswagen</th>\n",
       "      <td>Volkswagen</td>\n",
       "      <td>Polo</td>\n",
       "      <td>Comfortline</td>\n",
       "      <td>2016</td>\n",
       "      <td>11585</td>\n",
       "    </tr>\n",
       "  </tbody>\n",
       "</table>\n",
       "</div>"
      ],
      "text/plain": [
       "            marka_label  model_label   paket_label  model_yili  arac_sayisi\n",
       "marka_label                                                                \n",
       "Audi               Audi           A3       Dynamic        2017         4368\n",
       "Citroën         Citroën  C3 AirCross     Feel Bold        2022         1328\n",
       "Isuzu             Isuzu        D-Max        V-Life        2022          286\n",
       "Opel               Opel        Astra  Edition Plus        2020         4111\n",
       "Renault         Renault       Megane         Touch        2017        16211\n",
       "Volkswagen   Volkswagen         Polo   Comfortline        2016        11585"
      ]
     },
     "execution_count": 97,
     "metadata": {},
     "output_type": "execute_result"
    }
   ],
   "source": [
    "marka_model_paket_yil_sayisi = df2.groupby(\n",
    "    ['marka_label', 'model_label', 'paket_label',\n",
    "     'model_yili']).size().reset_index(name='arac_sayisi')\n",
    "en_cok_bulunan_markalar2 = marka_model_paket_yil_sayisi.loc[\n",
    "    marka_model_paket_yil_sayisi.groupby(\n",
    "        ['marka_label', 'model_label', 'paket_label',\n",
    "         'model_yili'])['arac_sayisi'].idxmax()]\n",
    "en_cok_bulunan_markalar_bla = en_cok_bulunan_markalar2.groupby(\n",
    "    'marka_label').apply(lambda x: x.loc[x['arac_sayisi'].idxmax()])\n",
    "en_cok_bulunan_markalar_bla"
   ]
  },
  {
   "cell_type": "markdown",
   "id": "7366e592",
   "metadata": {},
   "source": [
    "Kullanıcıdan bir araç markası alınıp kullanıcıya o markanın en çok tutulan modeli, paketi yılı vs hakkında bilgi verilir. Böylece piyasa da hızlı al-sat yapılabilen modeli ve özelliklerini öğrenmiş olur."
   ]
  },
  {
   "cell_type": "code",
   "execution_count": 98,
   "id": "38ce46af",
   "metadata": {},
   "outputs": [
    {
     "name": "stdout",
     "output_type": "stream",
     "text": [
      "Citroën\n",
      "Isuzu\n",
      "Opel\n",
      "Renault\n",
      "Volkswagen\n",
      "Audi\n",
      "En çok tutulan özelliklerini öğrenmek istediğiniz araba markasaı: Renault\n"
     ]
    },
    {
     "data": {
      "text/html": [
       "<div>\n",
       "<style scoped>\n",
       "    .dataframe tbody tr th:only-of-type {\n",
       "        vertical-align: middle;\n",
       "    }\n",
       "\n",
       "    .dataframe tbody tr th {\n",
       "        vertical-align: top;\n",
       "    }\n",
       "\n",
       "    .dataframe thead th {\n",
       "        text-align: right;\n",
       "    }\n",
       "</style>\n",
       "<table border=\"1\" class=\"dataframe\">\n",
       "  <thead>\n",
       "    <tr style=\"text-align: right;\">\n",
       "      <th></th>\n",
       "      <th>marka_label</th>\n",
       "      <th>model_label</th>\n",
       "      <th>paket_label</th>\n",
       "      <th>model_yili</th>\n",
       "      <th>arac_sayisi</th>\n",
       "    </tr>\n",
       "    <tr>\n",
       "      <th>marka_label</th>\n",
       "      <th></th>\n",
       "      <th></th>\n",
       "      <th></th>\n",
       "      <th></th>\n",
       "      <th></th>\n",
       "    </tr>\n",
       "  </thead>\n",
       "  <tbody>\n",
       "    <tr>\n",
       "      <th>Renault</th>\n",
       "      <td>Renault</td>\n",
       "      <td>Megane</td>\n",
       "      <td>Touch</td>\n",
       "      <td>2017</td>\n",
       "      <td>16211</td>\n",
       "    </tr>\n",
       "  </tbody>\n",
       "</table>\n",
       "</div>"
      ],
      "text/plain": [
       "            marka_label model_label paket_label  model_yili  arac_sayisi\n",
       "marka_label                                                             \n",
       "Renault         Renault      Megane       Touch        2017        16211"
      ]
     },
     "execution_count": 98,
     "metadata": {},
     "output_type": "execute_result"
    }
   ],
   "source": [
    "print(\"Citroën\\nIsuzu\\nOpel\\nRenault\\nVolkswagen\\nAudi\")\n",
    "brand = input(\n",
    "    'En çok tutulan özelliklerini öğrenmek istediğiniz araba markasaı: ')\n",
    "marka_en_cok = en_cok_bulunan_markalar_bla[(\n",
    "    en_cok_bulunan_markalar_bla['marka_label'] == brand)]\n",
    "marka_en_cok"
   ]
  }
 ],
 "metadata": {
  "kernelspec": {
   "display_name": "Python 3 (ipykernel)",
   "language": "python",
   "name": "python3"
  },
  "language_info": {
   "codemirror_mode": {
    "name": "ipython",
    "version": 3
   },
   "file_extension": ".py",
   "mimetype": "text/x-python",
   "name": "python",
   "nbconvert_exporter": "python",
   "pygments_lexer": "ipython3",
   "version": "3.11.5"
  }
 },
 "nbformat": 4,
 "nbformat_minor": 5
}
